{
 "cells": [
  {
   "cell_type": "raw",
   "id": "9a03d5c1-ce52-4f1e-98d6-84dd64b1da6a",
   "metadata": {},
   "source": [
    "#Описание данных\n",
    "#Time - минутный период, за который показываются данные\n",
    "#Open - цена актива на начло минуты\n",
    "#High - max цена актива за 1 минуту\n",
    "#Low- min цены актива за 1 минуту\n",
    "#Close  - цена актива на конец минуты\n",
    "#Volume (Объем торгов) - это общее количество криптовалюты, которая была продана или куплена за определенный период времени\n",
    "#Close time - время подведения статистики по активу за минуту\n",
    "#Quote asset volume (Объем котируемого актива) - это общее количество котируемой валюты, которая была продана или куплена за определенный период времени. \n",
    "#Number of trades - количество сделок\n",
    "#Taker buy base asset volume - показатель объема торгов, который отражает количество базовой криптовалюты, купленной или проданной за определенный период времени.\n",
    "#Time_alert - время события входа в сделку\n",
    "#Price_alert - цена входа в сделку"
   ]
  },
  {
   "cell_type": "code",
   "execution_count": 16,
   "id": "59cf5f04-7c0f-4b28-b04c-205a0e63cf0b",
   "metadata": {},
   "outputs": [],
   "source": [
    "import pandas as pd\n",
    "import os\n",
    "import matplotlib.pyplot as plt\n",
    "import seaborn as sns\n",
    "import warnings\n",
    "import optuna\n",
    "import pyarrow\n",
    "import numpy as np\n",
    "import plotly.express as px\n",
    "from tqdm import tqdm\n",
    "import mplfinance as mpf\n",
    "from sklearn.preprocessing import StandardScaler, MinMaxScaler\n",
    "import math\n",
    "import plotly.graph_objects as go\n",
    "\n",
    "from ta.trend import MACD\n",
    "from ta.momentum import RSIIndicator\n",
    "from ta.volatility import BollingerBands\n",
    "\n",
    "from statsmodels.tsa.arima.model import ARIMA\n",
    "from sklearn.model_selection import train_test_split\n",
    "\n",
    "from sklearn.preprocessing import MinMaxScaler\n",
    "from sklearn.metrics import mean_squared_error\n",
    "\n",
    "\n",
    "%matplotlib inline\n",
    "warnings.filterwarnings('ignore')\n",
    "pd.set_option('display.max_columns', None)\n",
    "plt.style.use('ggplot')\n",
    "plt.rcParams['figure.figsize'] = (24,20)\n",
    "plt.rcParams['axes.facecolor'] = 'black'\n",
    "sns.set_palette('Spectral')\n",
    "optuna.logging.set_verbosity(optuna.logging.WARNING)"
   ]
  },
  {
   "cell_type": "code",
   "execution_count": 2,
   "id": "d4d65c73-8d63-49c5-9a62-c84f45609f1f",
   "metadata": {},
   "outputs": [],
   "source": [
    "# Split для временных рядов\n",
    "def gain(value):\n",
    "    if value < 0:\n",
    "        return 0\n",
    "    else:\n",
    "        return value\n",
    "    \n",
    "def loss(value):\n",
    "    if value > 0:\n",
    "        return 0\n",
    "    else:\n",
    "        return abs(value)\n",
    "def TimeSeries_Split(ldf,\n",
    "                     split_id=[None,None],\n",
    "                     test_id=False,\n",
    "                     cut_id=None):\n",
    "    \n",
    "    # Reduce the number of used data\n",
    "    if(cut_id is not None):\n",
    "        print('Reducing Input Data')\n",
    "        \n",
    "        if(type(cut_id) is int):\n",
    "            ldf = ldf.iloc[-cut_id:]\n",
    "        else:\n",
    "            # input anything other than int\n",
    "            print('Slicing based on period')\n",
    "            ldf = ldf[data_period]\n",
    "            \n",
    "        t1 = ldf.index.max();t0 = ldf.index.min()\n",
    "        print(f'Dataset Min.Index: {t0} | Max.Index: {t1}')\n",
    "        \n",
    "    if(split_id[0] is not None):\n",
    "        # General Percentage Split (Non Shuffle requied for Time Series)\n",
    "        train_df,pred_df = train_test_split(ldf,test_size=split_id[0],shuffle=False)\n",
    "    elif(split_id[1] is not None):\n",
    "        # specific time split \n",
    "        train_df = df.loc[:split_id[1]]; pred_df = df.loc[split_id[1]:] \n",
    "    else:\n",
    "        print('Choose One Splitting Method Only')\n",
    "        \n",
    "#     y_train = train_df[feature]\n",
    "#     X_train = train_df.loc[:, train_df.columns != feature]\n",
    "#     if(test_id):\n",
    "#         y_test = pred_df[feature]\n",
    "#         X_test = pred_df.loc[:, pred_df.columns != feature]\n",
    "        \n",
    "    return train_df,pred_df # return \n",
    "\n",
    "#Работа с памятью, оптимизация памяти\n",
    "def reduce_mem_usage(df):\n",
    "    start_mem_usg = df.memory_usage().sum() / 1024**2 \n",
    "    print(\"Memory usage of properties dataframe is :\",start_mem_usg,\" MB\")\n",
    "    NAlist = [] # Keeps track of columns that have missing values filled in. \n",
    "    for col in df.columns:\n",
    "        if df[col].dtype != object:  # Exclude strings\n",
    "            \n",
    "            # Print current column type\n",
    "#            print(\"******************************\")\n",
    "#            print(\"Column: \",col)\n",
    "#            print(\"dtype before: \",df[col].dtype)\n",
    "            \n",
    "            # make variables for Int, max and min\n",
    "            IsInt = False\n",
    "            mx = df[col].max()\n",
    "            mn = df[col].min()\n",
    "            \n",
    "            # Integer does not support NA, therefore, NA needs to be filled\n",
    "            if not np.isfinite(df[col]).all(): \n",
    "                NAlist.append(col)\n",
    "                df[col].fillna(mn-1,inplace=True)  \n",
    "                   \n",
    "            # test if column can be converted to an integer\n",
    "            asint = df[col].fillna(0).astype(np.int64)\n",
    "            result = (df[col] - asint)\n",
    "            result = result.sum()\n",
    "            if result > -0.01 and result < 0.01:\n",
    "                IsInt = True\n",
    "\n",
    "            \n",
    "            # Make Integer/unsigned Integer datatypes\n",
    "            if IsInt:\n",
    "                if mn >= 0:\n",
    "                    if mx < 255:\n",
    "                        df[col] = df[col].astype(np.uint8)\n",
    "                    elif mx < 65535:\n",
    "                        df[col] = df[col].astype(np.uint16)\n",
    "                    elif mx < 4294967295:\n",
    "                        df[col] = df[col].astype(np.uint32)\n",
    "                    else:\n",
    "                        df[col] = df[col].astype(np.uint64)\n",
    "                else:\n",
    "                    if mn > np.iinfo(np.int8).min and mx < np.iinfo(np.int8).max:\n",
    "                        df[col] = df[col].astype(np.int8)\n",
    "                    elif mn > np.iinfo(np.int16).min and mx < np.iinfo(np.int16).max:\n",
    "                        df[col] = df[col].astype(np.int16)\n",
    "                    elif mn > np.iinfo(np.int32).min and mx < np.iinfo(np.int32).max:\n",
    "                        df[col] = df[col].astype(np.int32)\n",
    "                    elif mn > np.iinfo(np.int64).min and mx < np.iinfo(np.int64).max:\n",
    "                        df[col] = df[col].astype(np.int64)    \n",
    "            \n",
    "            # Make float datatypes 32 bit\n",
    "            else:\n",
    "                df[col] = df[col].astype(np.float32)\n",
    "            \n",
    "            # Print new column type\n",
    "#            print(\"dtype after: \",df[col].dtype)\n",
    "#            print(\"******************************\")\n",
    "    \n",
    "    # Print final result\n",
    "    print(\"___MEMORY USAGE AFTER COMPLETION:___\")\n",
    "    mem_usg = df.memory_usage().sum() / 1024**2 \n",
    "    print(\"Memory usage is: \",mem_usg,\" MB\")\n",
    "    print(\"This is \",100*mem_usg/start_mem_usg,\"% of the initial size\")\n",
    "    return df, NAlist\n",
    "\n",
    "def create_alert_of_graf(df, batch=None, token=None):\n",
    "    if batch!=None:\n",
    "        scoring_signal_data = list(df[df['batch']==batch]['Time_alert'].unique())\n",
    "        \n",
    "        scoring_signal_price = list(df[df['batch']==batch]['Price_alert'].unique())\n",
    "        \n",
    "        index = df[df['batch']==batch][df[df['batch']==batch].Time.isin(scoring_signal_data)].index\n",
    "        \n",
    "        ret_df = pd.DataFrame(np.nan, index=df[df['batch']==batch].index, columns=[ 'Price_alert'])\n",
    "    else:\n",
    "        scoring_signal_data = pd.pivot_table(df[df['token']==token], \n",
    "                                             values='Time_alert', \n",
    "                                             index='batch', \n",
    "                                             aggfunc='max')['Time_alert'].values\n",
    "        \n",
    "        scoring_signal_price = pd.pivot_table(df[df['token']==token], \n",
    "                                             values='Price_alert', \n",
    "                                             index='batch', \n",
    "                                             aggfunc='max')['Price_alert'].values\n",
    "        \n",
    "        index = df[df['token']==token][df.Time.isin(scoring_signal_data)].drop_duplicates(subset=['Time']).index\n",
    "        ret_df = pd.DataFrame(np.nan, index=df[df['token']==token].index, columns=['Price_alert'])\n",
    "        \n",
    "    count=0    \n",
    "    for i in index:    \n",
    "        ret_df.loc[i, ['Price_alert']] = [float(i) for i in scoring_signal_price][count]\n",
    "        count+=1\n",
    "    return ret_df"
   ]
  },
  {
   "cell_type": "code",
   "execution_count": 3,
   "id": "45f8ac7a-5e2a-49a0-8379-d5b6d4b5ea87",
   "metadata": {},
   "outputs": [],
   "source": [
    "PATH = r'C:\\Users\\aleksandrovva1\\Desktop\\data science\\crypto'\n",
    "all_files = os.listdir(PATH)"
   ]
  },
  {
   "cell_type": "code",
   "execution_count": 65,
   "id": "6460b4a7-8844-4c36-ab54-565595df9a97",
   "metadata": {},
   "outputs": [
    {
     "name": "stderr",
     "output_type": "stream",
     "text": [
      "100%|██████████████████████████████████████████████████████████████████████████████| 7346/7346 [01:38<00:00, 74.62it/s]\n"
     ]
    }
   ],
   "source": [
    "df = []\n",
    "court=0\n",
    "for name in tqdm(all_files):\n",
    "    dataframe = pd.read_csv(PATH+name)\n",
    "    dataframe['batch'] = court\n",
    "    df.append(dataframe)\n",
    "    court+=1\n",
    "df = pd.concat(df).reset_index()"
   ]
  },
  {
   "cell_type": "code",
   "execution_count": 4,
   "id": "44c3722a",
   "metadata": {},
   "outputs": [],
   "source": [
    "df = pd.read_parquet(PATH+'/all_df.pq')"
   ]
  },
  {
   "cell_type": "code",
   "execution_count": 64,
   "id": "72941cc6-1dab-4da2-9bee-22c8b0dc0644",
   "metadata": {},
   "outputs": [
    {
     "name": "stdout",
     "output_type": "stream",
     "text": [
      "Memory usage of properties dataframe is : 132.89809036254883  MB\n",
      "___MEMORY USAGE AFTER COMPLETION:___\n",
      "Memory usage is:  132.89809036254883  MB\n",
      "This is  100.0 % of the initial size\n"
     ]
    }
   ],
   "source": [
    "df, miss_list = reduce_mem_usage(df)"
   ]
  },
  {
   "cell_type": "code",
   "execution_count": null,
   "id": "b6686587",
   "metadata": {},
   "outputs": [],
   "source": [
    "df[df['token']=='1000BONKUSDT']"
   ]
  },
  {
   "cell_type": "code",
   "execution_count": 65,
   "id": "b7ea4ed1-89bf-4c60-b3c5-04f3f861d6ed",
   "metadata": {},
   "outputs": [],
   "source": [
    "df['Time'] = pd.to_datetime(df['Time'], unit='ms')\n",
    "df['Close time'] = pd.to_datetime(df['Close time'], unit='ms')\n",
    "df['Time_alert'] = pd.to_datetime(df['Time_alert'], unit='ms')\n",
    "df['Price_Change'] = df['Open']-df['Close']\n",
    "df['min_max_range'] = df['High'] - df['Low']\n",
    "df['meduim_price'] = np.mean([df['Open'],df['Close']], axis=0)\n",
    "df['Price_Change'] = df['Open']-df['Close']\n",
    "df['min_max_range'] = df['High'] - df['Low']\n",
    "df['meduim_price'] = np.mean([df['Open'],df['Close']], axis=0)\n",
    "#df = df.drop(['Volume_change'], axis=1)"
   ]
  },
  {
   "cell_type": "code",
   "execution_count": null,
   "id": "40e90a44",
   "metadata": {},
   "outputs": [],
   "source": [
    "plt.figure(figsize=(18,6))\n",
    "plt.plot(df[df['batch']==0]['Time'], df[df['batch']==0]['Open'], c='g')\n",
    "plt.plot(df[df['batch']==0]['Time'], df[df['batch']==0]['Close'], c='r')\n",
    "plt.plot(df[df['batch']==0]['Time'], df[df['batch']==0]['Price_alert'], c='w')\n",
    "plt.plot(df[df['batch']==0]['Time'], df[df['batch']==0]['meduim_price'], c='yellow')\n",
    "plt.scatter(df[df['batch']==0]['Time_alert'], df[df['batch']==0]['Price_alert'], c='w')\n",
    "#plt.hist(df[df['batch']==0]['Time'], df[df['batch']==0]['Number of trades'], c='b')\n",
    "plt.show()"
   ]
  },
  {
   "cell_type": "code",
   "execution_count": null,
   "id": "037e2a71",
   "metadata": {},
   "outputs": [],
   "source": [
    "for i in range(0,40):\n",
    "    plt.figure(figsize=(18,6))\n",
    "    plt.plot(df[df['batch']==i]['Time'], df[df['batch']==i]['meduim_price'], c='g')\n",
    "#    plt.plot(df[df['batch']==i]['Time'], df[df['batch']==i]['Price_Change'], c='r')\n",
    "    plt.plot(df[df['batch']==i]['Time'], df[df['batch']==i]['Price_alert'], c='r')\n",
    "    plt.scatter(df[df['batch']==i]['Time_alert'], df[df['batch']==i]['Price_alert'], c='w')\n",
    "    plt.legend()\n",
    "    plt.show()"
   ]
  },
  {
   "cell_type": "code",
   "execution_count": 15,
   "id": "33cead86",
   "metadata": {},
   "outputs": [
    {
     "name": "stdout",
     "output_type": "stream",
     "text": [
      "<class 'pandas.core.frame.DataFrame'>\n",
      "RangeIndex: 1990766 entries, 0 to 1990765\n",
      "Data columns (total 17 columns):\n",
      " #   Column                       Dtype         \n",
      "---  ------                       -----         \n",
      " 0   Time                         datetime64[ns]\n",
      " 1   Open                         float32       \n",
      " 2   High                         float32       \n",
      " 3   Low                          float32       \n",
      " 4   Close                        float32       \n",
      " 5   Volume                       float32       \n",
      " 6   Close time                   datetime64[ns]\n",
      " 7   Quote asset volume           float32       \n",
      " 8   Number of trades             uint32        \n",
      " 9   Taker buy base asset volume  float32       \n",
      " 10  Time_alert                   datetime64[ns]\n",
      " 11  Price_alert                  float32       \n",
      " 12  batch                        uint16        \n",
      " 13  token                        object        \n",
      " 14  Price_Change                 float32       \n",
      " 15  min_max_range                float32       \n",
      " 16  meduim_price                 float32       \n",
      "dtypes: datetime64[ns](3), float32(11), object(1), uint16(1), uint32(1)\n",
      "memory usage: 155.7+ MB\n"
     ]
    }
   ],
   "source": [
    "df.info()"
   ]
  },
  {
   "cell_type": "code",
   "execution_count": null,
   "id": "db3b71a7",
   "metadata": {},
   "outputs": [],
   "source": [
    "for i in range(0,10):\n",
    "    signal = create_alert_of_graf(df, batch=i)\n",
    "    mpf.plot(df[df['batch']==i].set_index('Close time'), \n",
    "            type='candle', style='charles',  \n",
    "            volume=True,\n",
    "            title=f\" История по патерну крипты {df[df['batch']==i]['token'].unique()[0]}\", \n",
    "            mav=(10,20,30),\n",
    "            addplot=[\n",
    "                mpf.make_addplot(signal, type='scatter',markersize=10, color='b', panel=0)\n",
    "            ])\n",
    "    plt.show()"
   ]
  },
  {
   "cell_type": "code",
   "execution_count": 396,
   "id": "98bbd387",
   "metadata": {},
   "outputs": [],
   "source": [
    "# Цена имеет свойств сильно менят направляение при пересечении скользящих средних, также можно сделать предположение, что\n",
    "# появление аллерта обусловленно положительным значением объема по крайней мере по токену 1000BONKUSDT, но графике видно, что\n",
    "# что по объему пересечения и средних и обхемов есть и другие области действия, однако других аллертов не последовало, это говорит о том, что \n",
    "# информация требует дополнения"
   ]
  },
  {
   "cell_type": "code",
   "execution_count": null,
   "id": "33a445f8",
   "metadata": {},
   "outputs": [],
   "source": [
    "for k in df['token'].unique():\n",
    "    try_df = df[df['token']==k]\n",
    "    signal = create_alert_of_graf(try_df, token=k)\n",
    "    mpf.plot(try_df.set_index('Time'), \n",
    "                type='candle', style='charles',  \n",
    "                volume=True,\n",
    "                title=f\" История по патерну крипты {try_df['token'].unique()[0]}\", \n",
    "                mav=(10,20,30),\n",
    "                addplot=[\n",
    "                    mpf.make_addplot(signal, type='scatter',markersize=10, color='b', panel=0)\n",
    "                ])"
   ]
  },
  {
   "cell_type": "code",
   "execution_count": 395,
   "id": "30ef9316",
   "metadata": {},
   "outputs": [],
   "source": [
    "# в целом структура данных говорит о том, что данные представлют собой отдельные промежутки с конкретными алертами, следовательно \n",
    "# следовательно эти данные нельзя использовать в общем для построения временного ряда без дополнительного дополнения инормации с биржи#\n",
    "# Также при быстром осмотре можно заметить, что аллерты происходят тогда, когда появляются объемы сделок по валюте"
   ]
  },
  {
   "cell_type": "code",
   "execution_count": 8,
   "id": "c1e6001e",
   "metadata": {},
   "outputs": [],
   "source": [
    "from statsmodels.graphics.tsaplots import plot_acf\n",
    "from statsmodels.graphics.tsaplots import plot_pacf\n",
    "from statsmodels.tsa.stattools import adfuller"
   ]
  },
  {
   "cell_type": "code",
   "execution_count": 9,
   "id": "864da035",
   "metadata": {},
   "outputs": [],
   "source": [
    "features = ['Open','High','Low','Close','Volume','Quote asset volume','Number of trades','Taker buy base asset volume']"
   ]
  },
  {
   "cell_type": "code",
   "execution_count": 10,
   "id": "5cc15dbf",
   "metadata": {},
   "outputs": [],
   "source": [
    "log_df = np.log(df[df['batch']==0]['meduim_price'])"
   ]
  },
  {
   "cell_type": "code",
   "execution_count": 11,
   "id": "3ec02149",
   "metadata": {},
   "outputs": [],
   "source": [
    "y_diff = df['meduim_price'].diff()"
   ]
  },
  {
   "cell_type": "code",
   "execution_count": 12,
   "id": "b15a3e54",
   "metadata": {},
   "outputs": [
    {
     "data": {
      "text/plain": [
       "0               NaN\n",
       "1         -0.000017\n",
       "2         -0.000004\n",
       "3          0.000009\n",
       "4          0.000023\n",
       "             ...   \n",
       "1990761   -0.000500\n",
       "1990762   -0.001300\n",
       "1990763    0.001200\n",
       "1990764    0.002800\n",
       "1990765    0.000100\n",
       "Name: meduim_price, Length: 1990766, dtype: float32"
      ]
     },
     "execution_count": 12,
     "metadata": {},
     "output_type": "execute_result"
    }
   ],
   "source": [
    "y_diff"
   ]
  },
  {
   "cell_type": "code",
   "execution_count": 13,
   "id": "c0b70052",
   "metadata": {},
   "outputs": [
    {
     "data": {
      "text/plain": [
       "0     -3.563199\n",
       "1     -3.563816\n",
       "2     -3.563975\n",
       "3     -3.563658\n",
       "4     -3.562864\n",
       "         ...   \n",
       "266   -3.542721\n",
       "267   -3.542686\n",
       "268   -3.542461\n",
       "269   -3.542617\n",
       "270   -3.542634\n",
       "Name: meduim_price, Length: 271, dtype: float32"
      ]
     },
     "execution_count": 13,
     "metadata": {},
     "output_type": "execute_result"
    }
   ],
   "source": [
    "log_df"
   ]
  },
  {
   "cell_type": "code",
   "execution_count": 363,
   "id": "33f24129",
   "metadata": {},
   "outputs": [
    {
     "data": {
      "text/plain": [
       "(-2.180899996147885,\n",
       " 0.21325053982678255,\n",
       " 10,\n",
       " 260,\n",
       " {'1%': -3.4557539868570775,\n",
       "  '5%': -2.8727214497041422,\n",
       "  '10%': -2.572728476331361},\n",
       " -2805.7263182149172)"
      ]
     },
     "execution_count": 363,
     "metadata": {},
     "output_type": "execute_result"
    }
   ],
   "source": [
    "adfuller(log_df)"
   ]
  },
  {
   "cell_type": "code",
   "execution_count": null,
   "id": "fce4ab34",
   "metadata": {},
   "outputs": [],
   "source": [
    "features = [i for i in df.select_dtypes(np.number).columns if i not in ['batch']]\n",
    "for i in df['token'].unique()[:20]:\n",
    "    mask = np.triu(np.ones_like(df[df['token']==i][features].corr()))\n",
    "    plt.figure(figsize=(18,12))\n",
    "    plt.title(f'Корреляция признаков по токену: {i}')\n",
    "    sns.heatmap(df[df['token']==i][features].corr(), annot=True, mask=mask, cmap='crest')\n",
    "    plt.show()"
   ]
  },
  {
   "cell_type": "code",
   "execution_count": 14,
   "id": "d934085c",
   "metadata": {},
   "outputs": [],
   "source": [
    "# в целом видно, что по каждой валюте корреляция между ценой открытия/закрытия и Volume, Quote asset volume, Quote asset volume\n",
    "# Number of trades отличаются, что может говорить о том, что нет такого торгового параметра, по которомк можно определить \n",
    "# движение цены по всем валютам сразу, тут требуется подходить к каждой валюте отдельно"
   ]
  },
  {
   "cell_type": "code",
   "execution_count": 66,
   "id": "7b1c5f18",
   "metadata": {},
   "outputs": [],
   "source": [
    "df = df.rename(columns={'Time':'ds', 'meduim_price':'y'})"
   ]
  },
  {
   "cell_type": "code",
   "execution_count": 64,
   "id": "b4f4534d",
   "metadata": {},
   "outputs": [
    {
     "name": "stderr",
     "output_type": "stream",
     "text": [
      "16:24:52 - cmdstanpy - INFO - Chain [1] start processing\n",
      "16:24:52 - cmdstanpy - INFO - Chain [1] done processing\n"
     ]
    }
   ],
   "source": [
    "model = Prophet().fit(df[(df['token']=='1000BONKUSDT')& (df['batch']==0)])"
   ]
  },
  {
   "cell_type": "code",
   "execution_count": 65,
   "id": "89af1a64",
   "metadata": {},
   "outputs": [
    {
     "data": {
      "text/plain": [
       "Index(['ds', 'Open', 'High', 'Low', 'Close', 'Volume', 'Close time',\n",
       "       'Quote asset volume', 'Number of trades', 'Taker buy base asset volume',\n",
       "       'Time_alert', 'Price_alert', 'batch', 'token', 'Price_Change',\n",
       "       'min_max_range', 'y'],\n",
       "      dtype='object')"
      ]
     },
     "execution_count": 65,
     "metadata": {},
     "output_type": "execute_result"
    }
   ],
   "source": [
    "df.columns"
   ]
  },
  {
   "cell_type": "code",
   "execution_count": 66,
   "id": "95c04cb5",
   "metadata": {},
   "outputs": [],
   "source": [
    "future_dates = model.make_future_dataframe(periods=120, freq='min')"
   ]
  },
  {
   "cell_type": "code",
   "execution_count": 67,
   "id": "3cd80cad",
   "metadata": {},
   "outputs": [],
   "source": [
    "forecast = model.predict(future_dates)[['ds', 'yhat_lower', 'yhat_upper', 'yhat']]"
   ]
  },
  {
   "cell_type": "code",
   "execution_count": 68,
   "id": "d9450eb7",
   "metadata": {},
   "outputs": [
    {
     "data": {
      "text/html": [
       "<div>\n",
       "<style scoped>\n",
       "    .dataframe tbody tr th:only-of-type {\n",
       "        vertical-align: middle;\n",
       "    }\n",
       "\n",
       "    .dataframe tbody tr th {\n",
       "        vertical-align: top;\n",
       "    }\n",
       "\n",
       "    .dataframe thead th {\n",
       "        text-align: right;\n",
       "    }\n",
       "</style>\n",
       "<table border=\"1\" class=\"dataframe\">\n",
       "  <thead>\n",
       "    <tr style=\"text-align: right;\">\n",
       "      <th></th>\n",
       "      <th>ds</th>\n",
       "      <th>yhat_lower</th>\n",
       "      <th>yhat_upper</th>\n",
       "      <th>yhat</th>\n",
       "    </tr>\n",
       "  </thead>\n",
       "  <tbody>\n",
       "    <tr>\n",
       "      <th>0</th>\n",
       "      <td>2024-03-12 22:35:00</td>\n",
       "      <td>0.028259</td>\n",
       "      <td>0.028442</td>\n",
       "      <td>0.028350</td>\n",
       "    </tr>\n",
       "    <tr>\n",
       "      <th>1</th>\n",
       "      <td>2024-03-12 22:36:00</td>\n",
       "      <td>0.028278</td>\n",
       "      <td>0.028460</td>\n",
       "      <td>0.028364</td>\n",
       "    </tr>\n",
       "    <tr>\n",
       "      <th>2</th>\n",
       "      <td>2024-03-12 22:37:00</td>\n",
       "      <td>0.028292</td>\n",
       "      <td>0.028471</td>\n",
       "      <td>0.028379</td>\n",
       "    </tr>\n",
       "    <tr>\n",
       "      <th>3</th>\n",
       "      <td>2024-03-12 22:38:00</td>\n",
       "      <td>0.028296</td>\n",
       "      <td>0.028480</td>\n",
       "      <td>0.028393</td>\n",
       "    </tr>\n",
       "    <tr>\n",
       "      <th>4</th>\n",
       "      <td>2024-03-12 22:39:00</td>\n",
       "      <td>0.028320</td>\n",
       "      <td>0.028497</td>\n",
       "      <td>0.028407</td>\n",
       "    </tr>\n",
       "    <tr>\n",
       "      <th>...</th>\n",
       "      <td>...</td>\n",
       "      <td>...</td>\n",
       "      <td>...</td>\n",
       "      <td>...</td>\n",
       "    </tr>\n",
       "    <tr>\n",
       "      <th>386</th>\n",
       "      <td>2024-03-13 05:01:00</td>\n",
       "      <td>0.025688</td>\n",
       "      <td>0.031580</td>\n",
       "      <td>0.028593</td>\n",
       "    </tr>\n",
       "    <tr>\n",
       "      <th>387</th>\n",
       "      <td>2024-03-13 05:02:00</td>\n",
       "      <td>0.025612</td>\n",
       "      <td>0.031632</td>\n",
       "      <td>0.028590</td>\n",
       "    </tr>\n",
       "    <tr>\n",
       "      <th>388</th>\n",
       "      <td>2024-03-13 05:03:00</td>\n",
       "      <td>0.025579</td>\n",
       "      <td>0.031684</td>\n",
       "      <td>0.028588</td>\n",
       "    </tr>\n",
       "    <tr>\n",
       "      <th>389</th>\n",
       "      <td>2024-03-13 05:04:00</td>\n",
       "      <td>0.025541</td>\n",
       "      <td>0.031709</td>\n",
       "      <td>0.028586</td>\n",
       "    </tr>\n",
       "    <tr>\n",
       "      <th>390</th>\n",
       "      <td>2024-03-13 05:05:00</td>\n",
       "      <td>0.025447</td>\n",
       "      <td>0.031771</td>\n",
       "      <td>0.028584</td>\n",
       "    </tr>\n",
       "  </tbody>\n",
       "</table>\n",
       "<p>391 rows × 4 columns</p>\n",
       "</div>"
      ],
      "text/plain": [
       "                     ds  yhat_lower  yhat_upper      yhat\n",
       "0   2024-03-12 22:35:00    0.028259    0.028442  0.028350\n",
       "1   2024-03-12 22:36:00    0.028278    0.028460  0.028364\n",
       "2   2024-03-12 22:37:00    0.028292    0.028471  0.028379\n",
       "3   2024-03-12 22:38:00    0.028296    0.028480  0.028393\n",
       "4   2024-03-12 22:39:00    0.028320    0.028497  0.028407\n",
       "..                  ...         ...         ...       ...\n",
       "386 2024-03-13 05:01:00    0.025688    0.031580  0.028593\n",
       "387 2024-03-13 05:02:00    0.025612    0.031632  0.028590\n",
       "388 2024-03-13 05:03:00    0.025579    0.031684  0.028588\n",
       "389 2024-03-13 05:04:00    0.025541    0.031709  0.028586\n",
       "390 2024-03-13 05:05:00    0.025447    0.031771  0.028584\n",
       "\n",
       "[391 rows x 4 columns]"
      ]
     },
     "execution_count": 68,
     "metadata": {},
     "output_type": "execute_result"
    }
   ],
   "source": [
    "forecast"
   ]
  },
  {
   "cell_type": "code",
   "execution_count": 90,
   "id": "d187e434",
   "metadata": {},
   "outputs": [],
   "source": [
    "df['Volume_f'] = round(df['Volume'],1)"
   ]
  },
  {
   "cell_type": "code",
   "execution_count": 91,
   "id": "d937aea1",
   "metadata": {},
   "outputs": [
    {
     "data": {
      "text/plain": [
       "0          1.731354e+06\n",
       "1          4.202372e+06\n",
       "2          1.677868e+06\n",
       "3          1.428227e+06\n",
       "4          3.360009e+06\n",
       "               ...     \n",
       "1990761    2.216839e+05\n",
       "1990762    1.764899e+05\n",
       "1990763    3.126888e+05\n",
       "1990764    3.684429e+05\n",
       "1990765    2.500907e+05\n",
       "Name: Volume_f, Length: 1990766, dtype: float32"
      ]
     },
     "execution_count": 91,
     "metadata": {},
     "output_type": "execute_result"
    }
   ],
   "source": [
    "df['Volume_f']"
   ]
  },
  {
   "cell_type": "code",
   "execution_count": 78,
   "id": "b512b3c8",
   "metadata": {},
   "outputs": [],
   "source": [
    "_1000BONKUSDT_0_batch = df[(df['token']=='1000BONKUSDT')& (df['batch']==0)]"
   ]
  },
  {
   "cell_type": "code",
   "execution_count": 69,
   "id": "843b7776",
   "metadata": {},
   "outputs": [
    {
     "data": {
      "image/png": "[encoded data removed]",
      "text/plain": [
       "<Figure size 720x432 with 1 Axes>"
      ]
     },
     "execution_count": 69,
     "metadata": {},
     "output_type": "execute_result"
    },
    {
     "data": {
      "image/png": "[encoded data removed]",
      "text/plain": [
       "<Figure size 720x432 with 1 Axes>"
      ]
     },
     "metadata": {},
     "output_type": "display_data"
    }
   ],
   "source": [
    "model.plot(forecast)"
   ]
  },
  {
   "cell_type": "code",
   "execution_count": 77,
   "id": "d31a9d70",
   "metadata": {},
   "outputs": [],
   "source": [
    "#Данный способ, при помощи библиотеки Prophet не показывает приемлемого результата"
   ]
  },
  {
   "cell_type": "code",
   "execution_count": 11,
   "id": "729b4485",
   "metadata": {},
   "outputs": [
    {
     "name": "stderr",
     "output_type": "stream",
     "text": [
      "100%|█████████████████████████████████████████████████████████████████████████████| 7346/7346 [00:26<00:00, 277.09it/s]\n"
     ]
    }
   ],
   "source": [
    "# Посчитаем межквартильный размах и его влияние на алерты\n",
    "\n",
    "_1000BONKUSDT_pivort = pd.pivot_table(df, \n",
    "                                     values='Time_alert',\n",
    "                                     index='batch',\n",
    "                                     aggfunc='max')\n",
    "yes=0\n",
    "no=0\n",
    "for i in tqdm(range(0,7346)):\n",
    "    data_s = df[(df['batch']==i)]\n",
    "    _1000BONKUSDT_iqr = data_s['Volume'].quantile(0.75) - data_s['Volume'].quantile(0.25)\n",
    "    _1000BONKUSDT_upper_bound = (data_s['Volume'].quantile(0.75) + 1.5 * _1000BONKUSDT_iqr).astype('float32')\n",
    "\n",
    "    # Посмотрим есть ли у токена выбросы\n",
    "    _1000BONKUSDT_outliers = data_s[data_s['Volume'] > _1000BONKUSDT_upper_bound]\n",
    "\n",
    "    # Посмотрим есть ли точка алерта в выбросах\n",
    "    booler = str(_1000BONKUSDT_pivort.loc[i].values[0]) in [str(i) for i in _1000BONKUSDT_outliers['ds'].values]\n",
    "    if booler==True:\n",
    "        yes+=1\n",
    "    else:\n",
    "        no+=1"
   ]
  },
  {
   "cell_type": "code",
   "execution_count": 12,
   "id": "083f3ba1-57f7-415f-a410-e1e3e9beb3b5",
   "metadata": {},
   "outputs": [
    {
     "data": {
      "text/plain": [
       "(6759, 587)"
      ]
     },
     "execution_count": 12,
     "metadata": {},
     "output_type": "execute_result"
    }
   ],
   "source": [
    "yes, no"
   ]
  },
  {
   "cell_type": "code",
   "execution_count": 13,
   "id": "9f536d55-5704-4c80-8fd2-3aebca88a966",
   "metadata": {},
   "outputs": [],
   "source": [
    "# исходя из полученного опыта можно говорить, что Вырос значения объемов торгов является сигналом для начала алерта"
   ]
  },
  {
   "cell_type": "code",
   "execution_count": 14,
   "id": "b673c90b-a9ee-41e3-bbe3-12526e13da63",
   "metadata": {},
   "outputs": [
    {
     "name": "stderr",
     "output_type": "stream",
     "text": [
      "100%|█████████████████████████████████████████████████████████████████████████████| 7346/7346 [00:26<00:00, 277.18it/s]"
     ]
    },
    {
     "name": "stdout",
     "output_type": "stream",
     "text": [
      "влияние выбросов по High на аллерт: (335, 7011)\n"
     ]
    },
    {
     "name": "stderr",
     "output_type": "stream",
     "text": [
      "\n"
     ]
    }
   ],
   "source": [
    "_1000BONKUSDT_pivort = pd.pivot_table(df, \n",
    "                                     values='Time_alert',\n",
    "                                     index='batch',\n",
    "                                     aggfunc='max')\n",
    "yes=0\n",
    "no=0\n",
    "for i in tqdm(range(0,7346)):\n",
    "    data_s = df[(df['batch']==i)]\n",
    "    _1000BONKUSDT_iqr = data_s['High'].quantile(0.75) - data_s['High'].quantile(0.25)\n",
    "    _1000BONKUSDT_upper_bound = (data_s['High'].quantile(0.75) + 1.5 * _1000BONKUSDT_iqr).astype('float32')\n",
    "\n",
    "    # Посмотрим есть ли у токена выбросы\n",
    "    _1000BONKUSDT_outliers = data_s[data_s['High'] > _1000BONKUSDT_upper_bound]\n",
    "\n",
    "    # Посмотрим есть ли точка алерта в выбросах\n",
    "    booler = str(_1000BONKUSDT_pivort.loc[i].values[0]) in [str(i) for i in _1000BONKUSDT_outliers['ds'].values]\n",
    "    if booler==True:\n",
    "        yes+=1\n",
    "    else:\n",
    "        no+=1\n",
    "print(f'влияние выбросов по High на аллерт: {yes, no}')"
   ]
  },
  {
   "cell_type": "code",
   "execution_count": 15,
   "id": "47d97a27-d479-46d0-88da-4c0080c42f49",
   "metadata": {},
   "outputs": [
    {
     "name": "stderr",
     "output_type": "stream",
     "text": [
      "100%|█████████████████████████████████████████████████████████████████████████████| 7346/7346 [00:26<00:00, 278.27it/s]"
     ]
    },
    {
     "name": "stdout",
     "output_type": "stream",
     "text": [
      "влияние выбросов по Low на аллерт: (29, 7317)\n"
     ]
    },
    {
     "name": "stderr",
     "output_type": "stream",
     "text": [
      "\n"
     ]
    }
   ],
   "source": [
    "_1000BONKUSDT_pivort = pd.pivot_table(df, \n",
    "                                     values='Time_alert',\n",
    "                                     index='batch',\n",
    "                                     aggfunc='max')\n",
    "yes=0\n",
    "no=0\n",
    "for i in tqdm(range(0,7346)):\n",
    "    data_s = df[(df['batch']==i)]\n",
    "    _1000BONKUSDT_iqr = data_s['Low'].quantile(0.75) - data_s['Low'].quantile(0.25)\n",
    "    _1000BONKUSDT_upper_bound = (data_s['Low'].quantile(0.75) + 1.5 * _1000BONKUSDT_iqr).astype('float32')\n",
    "\n",
    "    # Посмотрим есть ли у токена выбросы\n",
    "    _1000BONKUSDT_outliers = data_s[data_s['Low'] > _1000BONKUSDT_upper_bound]\n",
    "\n",
    "    # Посмотрим есть ли точка алерта в выбросах\n",
    "    booler = str(_1000BONKUSDT_pivort.loc[i].values[0]) in [str(i) for i in _1000BONKUSDT_outliers['ds'].values]\n",
    "    if booler==True:\n",
    "        yes+=1\n",
    "    else:\n",
    "        no+=1\n",
    "print(f'влияние выбросов по Low на аллерт: {yes, no}')"
   ]
  },
  {
   "cell_type": "code",
   "execution_count": 16,
   "id": "01fc1cf2-8ede-4e7c-8f54-b9f220542412",
   "metadata": {},
   "outputs": [
    {
     "name": "stderr",
     "output_type": "stream",
     "text": [
      "100%|█████████████████████████████████████████████████████████████████████████████| 7346/7346 [00:26<00:00, 277.47it/s]"
     ]
    },
    {
     "name": "stdout",
     "output_type": "stream",
     "text": [
      "влияние выбросов по Low на аллерт: (6741, 605)\n"
     ]
    },
    {
     "name": "stderr",
     "output_type": "stream",
     "text": [
      "\n"
     ]
    }
   ],
   "source": [
    "_1000BONKUSDT_pivort = pd.pivot_table(df, \n",
    "                                     values='Time_alert',\n",
    "                                     index='batch',\n",
    "                                     aggfunc='max')\n",
    "yes=0\n",
    "no=0\n",
    "for i in tqdm(range(0,7346)):\n",
    "    data_s = df[(df['batch']==i)]\n",
    "    _1000BONKUSDT_iqr = data_s['Quote asset volume'].quantile(0.75) - data_s['Quote asset volume'].quantile(0.25)\n",
    "    _1000BONKUSDT_upper_bound = (data_s['Quote asset volume'].quantile(0.75) + 1.5 * _1000BONKUSDT_iqr).astype('float32')\n",
    "\n",
    "    # Посмотрим есть ли у токена выбросы\n",
    "    _1000BONKUSDT_outliers = data_s[data_s['Quote asset volume'] > _1000BONKUSDT_upper_bound]\n",
    "\n",
    "    # Посмотрим есть ли точка алерта в выбросах\n",
    "    booler = str(_1000BONKUSDT_pivort.loc[i].values[0]) in [str(i) for i in _1000BONKUSDT_outliers['ds'].values]\n",
    "    if booler==True:\n",
    "        yes+=1\n",
    "    else:\n",
    "        no+=1\n",
    "print(f'влияние выбросов по Low на аллерт: {yes, no}')"
   ]
  },
  {
   "cell_type": "code",
   "execution_count": 17,
   "id": "dd086c45-d908-4ef7-8147-357c9905e867",
   "metadata": {},
   "outputs": [
    {
     "name": "stderr",
     "output_type": "stream",
     "text": [
      "100%|█████████████████████████████████████████████████████████████████████████████| 7346/7346 [00:26<00:00, 274.97it/s]"
     ]
    },
    {
     "name": "stdout",
     "output_type": "stream",
     "text": [
      "влияние выбросов по Number of trades на аллерт: (6317, 1029)\n"
     ]
    },
    {
     "name": "stderr",
     "output_type": "stream",
     "text": [
      "\n"
     ]
    }
   ],
   "source": [
    "_1000BONKUSDT_pivort = pd.pivot_table(df, \n",
    "                                     values='Time_alert',\n",
    "                                     index='batch',\n",
    "                                     aggfunc='max')\n",
    "yes=0\n",
    "no=0\n",
    "for i in tqdm(range(0,7346)):\n",
    "    data_s = df[(df['batch']==i)]\n",
    "    _1000BONKUSDT_iqr = data_s['Number of trades'].quantile(0.75) - data_s['Number of trades'].quantile(0.25)\n",
    "    _1000BONKUSDT_upper_bound = (data_s['Number of trades'].quantile(0.75) + 1.5 * _1000BONKUSDT_iqr).astype('float32')\n",
    "\n",
    "    # Посмотрим есть ли у токена выбросы\n",
    "    _1000BONKUSDT_outliers = data_s[data_s['Number of trades'] > _1000BONKUSDT_upper_bound]\n",
    "\n",
    "    # Посмотрим есть ли точка алерта в выбросах\n",
    "    booler = str(_1000BONKUSDT_pivort.loc[i].values[0]) in [str(i) for i in _1000BONKUSDT_outliers['ds'].values]\n",
    "    if booler==True:\n",
    "        yes+=1\n",
    "    else:\n",
    "        no+=1\n",
    "print(f'влияние выбросов по Number of trades на аллерт: {yes, no}')"
   ]
  },
  {
   "cell_type": "code",
   "execution_count": 18,
   "id": "1961727a-0f29-4bfc-8e5d-2421e830578a",
   "metadata": {},
   "outputs": [
    {
     "name": "stderr",
     "output_type": "stream",
     "text": [
      "100%|█████████████████████████████████████████████████████████████████████████████| 7346/7346 [00:26<00:00, 280.94it/s]"
     ]
    },
    {
     "name": "stdout",
     "output_type": "stream",
     "text": [
      "влияние выбросов по Taker buy base asset volume на аллерт: (7021, 325)\n"
     ]
    },
    {
     "name": "stderr",
     "output_type": "stream",
     "text": [
      "\n"
     ]
    }
   ],
   "source": [
    "_1000BONKUSDT_pivort = pd.pivot_table(df, \n",
    "                                     values='Time_alert',\n",
    "                                     index='batch',\n",
    "                                     aggfunc='max')\n",
    "yes=0\n",
    "no=0\n",
    "for i in tqdm(range(0,7346)):\n",
    "    data_s = df[(df['batch']==i)]\n",
    "    _1000BONKUSDT_iqr = data_s['Taker buy base asset volume'].quantile(0.75) - data_s['Taker buy base asset volume'].quantile(0.25)\n",
    "    _1000BONKUSDT_upper_bound = (data_s['Taker buy base asset volume'].quantile(0.75) + 1.5 * _1000BONKUSDT_iqr).astype('float32')\n",
    "\n",
    "    # Посмотрим есть ли у токена выбросы\n",
    "    _1000BONKUSDT_outliers = data_s[data_s['Taker buy base asset volume'] > _1000BONKUSDT_upper_bound]\n",
    "\n",
    "    # Посмотрим есть ли точка алерта в выбросах\n",
    "    booler = str(_1000BONKUSDT_pivort.loc[i].values[0]) in [str(i) for i in _1000BONKUSDT_outliers['ds'].values]\n",
    "    if booler==True:\n",
    "        yes+=1\n",
    "    else:\n",
    "        no+=1\n",
    "print(f'влияние выбросов по Taker buy base asset volume на аллерт: {yes, no}')"
   ]
  },
  {
   "cell_type": "code",
   "execution_count": 19,
   "id": "96be2b62-379e-450e-916f-99096f38ae67",
   "metadata": {},
   "outputs": [
    {
     "name": "stderr",
     "output_type": "stream",
     "text": [
      "100%|█████████████████████████████████████████████████████████████████████████████| 7346/7346 [00:26<00:00, 280.35it/s]"
     ]
    },
    {
     "name": "stdout",
     "output_type": "stream",
     "text": [
      "влияние выбросов по Price_Change на аллерт: (18, 7328)\n"
     ]
    },
    {
     "name": "stderr",
     "output_type": "stream",
     "text": [
      "\n"
     ]
    }
   ],
   "source": [
    "_1000BONKUSDT_pivort = pd.pivot_table(df, \n",
    "                                     values='Time_alert',\n",
    "                                     index='batch',\n",
    "                                     aggfunc='max')\n",
    "yes=0\n",
    "no=0\n",
    "for i in tqdm(range(0,7346)):\n",
    "    data_s = df[(df['batch']==i)]\n",
    "    _1000BONKUSDT_iqr = data_s['Price_Change'].quantile(0.75) - data_s['Price_Change'].quantile(0.25)\n",
    "    _1000BONKUSDT_upper_bound = (data_s['Price_Change'].quantile(0.75) + 1.5 * _1000BONKUSDT_iqr).astype('float32')\n",
    "\n",
    "    # Посмотрим есть ли у токена выбросы\n",
    "    _1000BONKUSDT_outliers = data_s[data_s['Price_Change'] > _1000BONKUSDT_upper_bound]\n",
    "\n",
    "    # Посмотрим есть ли точка алерта в выбросах\n",
    "    booler = str(_1000BONKUSDT_pivort.loc[i].values[0]) in [str(i) for i in _1000BONKUSDT_outliers['ds'].values]\n",
    "    if booler==True:\n",
    "        yes+=1\n",
    "    else:\n",
    "        no+=1\n",
    "print(f'влияние выбросов по Price_Change на аллерт: {yes, no}')"
   ]
  },
  {
   "cell_type": "code",
   "execution_count": 20,
   "id": "f90617f0-7b14-4da9-9114-e0a44746fe4b",
   "metadata": {},
   "outputs": [],
   "source": [
    "# Исхдя из проделанного опята можно заключить, что период всплеска показателей Taker buy base asset!!! особенно Number of trades Quote asset volume, Volume \n",
    "# Является сигналом для начала алерта"
   ]
  },
  {
   "cell_type": "code",
   "execution_count": 21,
   "id": "5d9d44fb-7f90-47c1-80f8-ee52d29e2245",
   "metadata": {},
   "outputs": [],
   "source": [
    "# Для дополнительных измерений я дополню данные показателями технического анализа: MACD, Среднеквадратичное отклонение, Линии Болинжера, RSE"
   ]
  },
  {
   "cell_type": "code",
   "execution_count": 67,
   "id": "9505b9ba-4496-4c4c-9b25-b6532a8efe7a",
   "metadata": {},
   "outputs": [
    {
     "name": "stderr",
     "output_type": "stream",
     "text": [
      "100%|██████████████████████████████████████████████████████████████████████████████| 7346/7346 [46:47<00:00,  2.62it/s]\n"
     ]
    }
   ],
   "source": [
    "#df = df.drop(new_features,axis=1)\n",
    "period = 10\n",
    "for i in tqdm(df['batch'].unique()):\n",
    "    df.loc[df['batch']==i, [\"MACD\"]] = df.loc[df['batch']==i][\"Close\"].rolling(period).mean()\n",
    "    df.loc[df['batch']==i, [\"Standard Deviation\"]] = df.loc[df['batch']==i][\"Close\"].rolling(period).std()\n",
    "    df.loc[df['batch']==i, [\"Upper Bolinger Band\"]] = df.loc[df['batch']==i][\"MACD\"] + (2 * df[\"Standard Deviation\"])\n",
    "    df.loc[df['batch']==i, [\"Lower Bolinger Band\"]] = df.loc[df['batch']==i][\"MACD\"] - (2 * df[\"Standard Deviation\"])\n",
    "    df.loc[df['batch']==i, [\"Close Delta\"]] = df.loc[df['batch']==i][\"Close\"].diff()\n",
    "    df.loc[df['batch']==i, [\"Gain\"]] = df.loc[df['batch']==i][\"Close Delta\"].apply(lambda x:gain(x))\n",
    "    df.loc[df['batch']==i, [\"Loss\"]] = df.loc[df['batch']==i][\"Close Delta\"].apply(lambda x:loss(x))\n",
    "\n",
    "    #Calculate ema \n",
    "    df.loc[df['batch']==i, [\"EMA Gain\"]] = df.loc[df['batch']==i][\"Gain\"].ewm(period).mean()\n",
    "    df.loc[df['batch']==i, [\"EMA Loss\"]] = df.loc[df['batch']==i][\"Loss\"].ewm(period).mean()\n",
    "\n",
    "    #Calculate RSI\n",
    "    df.loc[df['batch']==i, [\"Relative Strength\"]] = df.loc[df['batch']==i][\"EMA Gain\"]/df[\"EMA Loss\"]\n",
    "    df.loc[df['batch']==i, ['RSI']] = df.loc[df['batch']==i]['Relative Strength'].apply(lambda x: 100 - (100/(x+1)))\n",
    "\n",
    "    df.loc[df['batch']==i, ['Daily_Return']] = df.loc[df['batch']==i]['Close'].pct_change()"
   ]
  },
  {
   "cell_type": "code",
   "execution_count": 68,
   "id": "42e6f94b",
   "metadata": {},
   "outputs": [
    {
     "data": {
      "text/html": [
       "<div>\n",
       "<style scoped>\n",
       "    .dataframe tbody tr th:only-of-type {\n",
       "        vertical-align: middle;\n",
       "    }\n",
       "\n",
       "    .dataframe tbody tr th {\n",
       "        vertical-align: top;\n",
       "    }\n",
       "\n",
       "    .dataframe thead th {\n",
       "        text-align: right;\n",
       "    }\n",
       "</style>\n",
       "<table border=\"1\" class=\"dataframe\">\n",
       "  <thead>\n",
       "    <tr style=\"text-align: right;\">\n",
       "      <th></th>\n",
       "      <th>ds</th>\n",
       "      <th>Open</th>\n",
       "      <th>High</th>\n",
       "      <th>Low</th>\n",
       "      <th>Close</th>\n",
       "      <th>Volume</th>\n",
       "      <th>Close time</th>\n",
       "      <th>Quote asset volume</th>\n",
       "      <th>Number of trades</th>\n",
       "      <th>Taker buy base asset volume</th>\n",
       "      <th>Time_alert</th>\n",
       "      <th>Price_alert</th>\n",
       "      <th>batch</th>\n",
       "      <th>token</th>\n",
       "      <th>Price_Change</th>\n",
       "      <th>min_max_range</th>\n",
       "      <th>y</th>\n",
       "      <th>MACD</th>\n",
       "      <th>Standard Deviation</th>\n",
       "      <th>Upper Bolinger Band</th>\n",
       "      <th>Lower Bolinger Band</th>\n",
       "      <th>Close Delta</th>\n",
       "      <th>Gain</th>\n",
       "      <th>Loss</th>\n",
       "      <th>EMA Gain</th>\n",
       "      <th>EMA Loss</th>\n",
       "      <th>Relative Strength</th>\n",
       "      <th>RSI</th>\n",
       "      <th>Daily_Return</th>\n",
       "    </tr>\n",
       "  </thead>\n",
       "  <tbody>\n",
       "    <tr>\n",
       "      <th>0</th>\n",
       "      <td>2024-03-12 22:35:00</td>\n",
       "      <td>0.028353</td>\n",
       "      <td>0.028359</td>\n",
       "      <td>0.028323</td>\n",
       "      <td>0.028343</td>\n",
       "      <td>1.731354e+06</td>\n",
       "      <td>2024-03-12 22:35:59.999</td>\n",
       "      <td>49064.449219</td>\n",
       "      <td>443</td>\n",
       "      <td>4.197650e+05</td>\n",
       "      <td>2024-03-13 00:04:00</td>\n",
       "      <td>0.029114</td>\n",
       "      <td>0</td>\n",
       "      <td>1000BONKUSDT</td>\n",
       "      <td>0.000010</td>\n",
       "      <td>0.000036</td>\n",
       "      <td>0.028348</td>\n",
       "      <td>NaN</td>\n",
       "      <td>NaN</td>\n",
       "      <td>NaN</td>\n",
       "      <td>NaN</td>\n",
       "      <td>NaN</td>\n",
       "      <td>NaN</td>\n",
       "      <td>NaN</td>\n",
       "      <td>NaN</td>\n",
       "      <td>NaN</td>\n",
       "      <td>NaN</td>\n",
       "      <td>NaN</td>\n",
       "      <td>NaN</td>\n",
       "    </tr>\n",
       "    <tr>\n",
       "      <th>1</th>\n",
       "      <td>2024-03-12 22:36:00</td>\n",
       "      <td>0.028342</td>\n",
       "      <td>0.028354</td>\n",
       "      <td>0.028275</td>\n",
       "      <td>0.028319</td>\n",
       "      <td>4.202372e+06</td>\n",
       "      <td>2024-03-12 22:36:59.999</td>\n",
       "      <td>118950.156250</td>\n",
       "      <td>737</td>\n",
       "      <td>1.497496e+06</td>\n",
       "      <td>2024-03-13 00:04:00</td>\n",
       "      <td>0.029114</td>\n",
       "      <td>0</td>\n",
       "      <td>1000BONKUSDT</td>\n",
       "      <td>0.000023</td>\n",
       "      <td>0.000079</td>\n",
       "      <td>0.028330</td>\n",
       "      <td>NaN</td>\n",
       "      <td>NaN</td>\n",
       "      <td>NaN</td>\n",
       "      <td>NaN</td>\n",
       "      <td>-0.000024</td>\n",
       "      <td>0.000000</td>\n",
       "      <td>0.000024</td>\n",
       "      <td>0.000000</td>\n",
       "      <td>0.000024</td>\n",
       "      <td>0.000000</td>\n",
       "      <td>0.000000</td>\n",
       "      <td>-0.000847</td>\n",
       "    </tr>\n",
       "    <tr>\n",
       "      <th>2</th>\n",
       "      <td>2024-03-12 22:37:00</td>\n",
       "      <td>0.028319</td>\n",
       "      <td>0.028342</td>\n",
       "      <td>0.028305</td>\n",
       "      <td>0.028333</td>\n",
       "      <td>1.677868e+06</td>\n",
       "      <td>2024-03-12 22:37:59.999</td>\n",
       "      <td>47526.148438</td>\n",
       "      <td>398</td>\n",
       "      <td>9.582670e+05</td>\n",
       "      <td>2024-03-13 00:04:00</td>\n",
       "      <td>0.029114</td>\n",
       "      <td>0</td>\n",
       "      <td>1000BONKUSDT</td>\n",
       "      <td>-0.000014</td>\n",
       "      <td>0.000037</td>\n",
       "      <td>0.028326</td>\n",
       "      <td>NaN</td>\n",
       "      <td>NaN</td>\n",
       "      <td>NaN</td>\n",
       "      <td>NaN</td>\n",
       "      <td>0.000014</td>\n",
       "      <td>0.000014</td>\n",
       "      <td>0.000000</td>\n",
       "      <td>0.000007</td>\n",
       "      <td>0.000011</td>\n",
       "      <td>0.641731</td>\n",
       "      <td>39.088670</td>\n",
       "      <td>0.000494</td>\n",
       "    </tr>\n",
       "    <tr>\n",
       "      <th>3</th>\n",
       "      <td>2024-03-12 22:38:00</td>\n",
       "      <td>0.028334</td>\n",
       "      <td>0.028349</td>\n",
       "      <td>0.028319</td>\n",
       "      <td>0.028336</td>\n",
       "      <td>1.428227e+06</td>\n",
       "      <td>2024-03-12 22:38:59.999</td>\n",
       "      <td>40467.351562</td>\n",
       "      <td>307</td>\n",
       "      <td>8.427180e+05</td>\n",
       "      <td>2024-03-13 00:04:00</td>\n",
       "      <td>0.029114</td>\n",
       "      <td>0</td>\n",
       "      <td>1000BONKUSDT</td>\n",
       "      <td>-0.000002</td>\n",
       "      <td>0.000030</td>\n",
       "      <td>0.028335</td>\n",
       "      <td>NaN</td>\n",
       "      <td>NaN</td>\n",
       "      <td>NaN</td>\n",
       "      <td>NaN</td>\n",
       "      <td>0.000003</td>\n",
       "      <td>0.000003</td>\n",
       "      <td>0.000000</td>\n",
       "      <td>0.000006</td>\n",
       "      <td>0.000007</td>\n",
       "      <td>0.792922</td>\n",
       "      <td>44.225125</td>\n",
       "      <td>0.000106</td>\n",
       "    </tr>\n",
       "    <tr>\n",
       "      <th>4</th>\n",
       "      <td>2024-03-12 22:39:00</td>\n",
       "      <td>0.028333</td>\n",
       "      <td>0.028403</td>\n",
       "      <td>0.028333</td>\n",
       "      <td>0.028382</td>\n",
       "      <td>3.360009e+06</td>\n",
       "      <td>2024-03-12 22:39:59.999</td>\n",
       "      <td>95359.367188</td>\n",
       "      <td>545</td>\n",
       "      <td>1.774116e+06</td>\n",
       "      <td>2024-03-13 00:04:00</td>\n",
       "      <td>0.029114</td>\n",
       "      <td>0</td>\n",
       "      <td>1000BONKUSDT</td>\n",
       "      <td>-0.000049</td>\n",
       "      <td>0.000070</td>\n",
       "      <td>0.028358</td>\n",
       "      <td>NaN</td>\n",
       "      <td>NaN</td>\n",
       "      <td>NaN</td>\n",
       "      <td>NaN</td>\n",
       "      <td>0.000046</td>\n",
       "      <td>0.000046</td>\n",
       "      <td>0.000000</td>\n",
       "      <td>0.000017</td>\n",
       "      <td>0.000005</td>\n",
       "      <td>3.343980</td>\n",
       "      <td>76.979634</td>\n",
       "      <td>0.001623</td>\n",
       "    </tr>\n",
       "    <tr>\n",
       "      <th>...</th>\n",
       "      <td>...</td>\n",
       "      <td>...</td>\n",
       "      <td>...</td>\n",
       "      <td>...</td>\n",
       "      <td>...</td>\n",
       "      <td>...</td>\n",
       "      <td>...</td>\n",
       "      <td>...</td>\n",
       "      <td>...</td>\n",
       "      <td>...</td>\n",
       "      <td>...</td>\n",
       "      <td>...</td>\n",
       "      <td>...</td>\n",
       "      <td>...</td>\n",
       "      <td>...</td>\n",
       "      <td>...</td>\n",
       "      <td>...</td>\n",
       "      <td>...</td>\n",
       "      <td>...</td>\n",
       "      <td>...</td>\n",
       "      <td>...</td>\n",
       "      <td>...</td>\n",
       "      <td>...</td>\n",
       "      <td>...</td>\n",
       "      <td>...</td>\n",
       "      <td>...</td>\n",
       "      <td>...</td>\n",
       "      <td>...</td>\n",
       "      <td>...</td>\n",
       "    </tr>\n",
       "    <tr>\n",
       "      <th>1990761</th>\n",
       "      <td>2024-04-02 02:58:00</td>\n",
       "      <td>0.689800</td>\n",
       "      <td>0.690000</td>\n",
       "      <td>0.686700</td>\n",
       "      <td>0.687400</td>\n",
       "      <td>2.216839e+05</td>\n",
       "      <td>2024-04-02 02:58:59.999</td>\n",
       "      <td>152591.500000</td>\n",
       "      <td>710</td>\n",
       "      <td>8.560630e+04</td>\n",
       "      <td>2024-04-02 00:02:00</td>\n",
       "      <td>0.712900</td>\n",
       "      <td>7345</td>\n",
       "      <td>ZRXUSDT</td>\n",
       "      <td>0.002400</td>\n",
       "      <td>0.003300</td>\n",
       "      <td>0.688600</td>\n",
       "      <td>0.68737</td>\n",
       "      <td>0.002069</td>\n",
       "      <td>0.691509</td>\n",
       "      <td>0.683231</td>\n",
       "      <td>-0.002300</td>\n",
       "      <td>0.000000</td>\n",
       "      <td>0.002300</td>\n",
       "      <td>0.001215</td>\n",
       "      <td>0.001326</td>\n",
       "      <td>0.915870</td>\n",
       "      <td>47.804385</td>\n",
       "      <td>-0.003335</td>\n",
       "    </tr>\n",
       "    <tr>\n",
       "      <th>1990762</th>\n",
       "      <td>2024-04-02 02:59:00</td>\n",
       "      <td>0.687400</td>\n",
       "      <td>0.688000</td>\n",
       "      <td>0.686700</td>\n",
       "      <td>0.687200</td>\n",
       "      <td>1.764899e+05</td>\n",
       "      <td>2024-04-02 02:59:59.999</td>\n",
       "      <td>121327.484375</td>\n",
       "      <td>633</td>\n",
       "      <td>9.726340e+04</td>\n",
       "      <td>2024-04-02 00:02:00</td>\n",
       "      <td>0.712900</td>\n",
       "      <td>7345</td>\n",
       "      <td>ZRXUSDT</td>\n",
       "      <td>0.000200</td>\n",
       "      <td>0.001300</td>\n",
       "      <td>0.687300</td>\n",
       "      <td>0.68733</td>\n",
       "      <td>0.002068</td>\n",
       "      <td>0.691467</td>\n",
       "      <td>0.683193</td>\n",
       "      <td>-0.000200</td>\n",
       "      <td>0.000000</td>\n",
       "      <td>0.000200</td>\n",
       "      <td>0.001104</td>\n",
       "      <td>0.001224</td>\n",
       "      <td>0.902264</td>\n",
       "      <td>47.431069</td>\n",
       "      <td>-0.000291</td>\n",
       "    </tr>\n",
       "    <tr>\n",
       "      <th>1990763</th>\n",
       "      <td>2024-04-02 03:00:00</td>\n",
       "      <td>0.687200</td>\n",
       "      <td>0.689900</td>\n",
       "      <td>0.686700</td>\n",
       "      <td>0.689800</td>\n",
       "      <td>3.126888e+05</td>\n",
       "      <td>2024-04-02 03:00:59.999</td>\n",
       "      <td>215123.703125</td>\n",
       "      <td>1120</td>\n",
       "      <td>2.141299e+05</td>\n",
       "      <td>2024-04-02 00:02:00</td>\n",
       "      <td>0.712900</td>\n",
       "      <td>7345</td>\n",
       "      <td>ZRXUSDT</td>\n",
       "      <td>-0.002600</td>\n",
       "      <td>0.003200</td>\n",
       "      <td>0.688500</td>\n",
       "      <td>0.68754</td>\n",
       "      <td>0.002212</td>\n",
       "      <td>0.691963</td>\n",
       "      <td>0.683117</td>\n",
       "      <td>0.002600</td>\n",
       "      <td>0.002600</td>\n",
       "      <td>0.000000</td>\n",
       "      <td>0.001240</td>\n",
       "      <td>0.001113</td>\n",
       "      <td>1.114724</td>\n",
       "      <td>52.712502</td>\n",
       "      <td>0.003783</td>\n",
       "    </tr>\n",
       "    <tr>\n",
       "      <th>1990764</th>\n",
       "      <td>2024-04-02 03:01:00</td>\n",
       "      <td>0.689700</td>\n",
       "      <td>0.693300</td>\n",
       "      <td>0.688500</td>\n",
       "      <td>0.692900</td>\n",
       "      <td>3.684429e+05</td>\n",
       "      <td>2024-04-02 03:01:59.999</td>\n",
       "      <td>254735.437500</td>\n",
       "      <td>1090</td>\n",
       "      <td>2.192688e+05</td>\n",
       "      <td>2024-04-02 00:02:00</td>\n",
       "      <td>0.712900</td>\n",
       "      <td>7345</td>\n",
       "      <td>ZRXUSDT</td>\n",
       "      <td>-0.003200</td>\n",
       "      <td>0.004800</td>\n",
       "      <td>0.691300</td>\n",
       "      <td>0.68788</td>\n",
       "      <td>0.002744</td>\n",
       "      <td>0.693368</td>\n",
       "      <td>0.682392</td>\n",
       "      <td>0.003100</td>\n",
       "      <td>0.003100</td>\n",
       "      <td>0.000000</td>\n",
       "      <td>0.001409</td>\n",
       "      <td>0.001011</td>\n",
       "      <td>1.393369</td>\n",
       "      <td>58.217897</td>\n",
       "      <td>0.004494</td>\n",
       "    </tr>\n",
       "    <tr>\n",
       "      <th>1990765</th>\n",
       "      <td>2024-04-02 03:02:00</td>\n",
       "      <td>0.692900</td>\n",
       "      <td>0.692900</td>\n",
       "      <td>0.688500</td>\n",
       "      <td>0.689900</td>\n",
       "      <td>2.500907e+05</td>\n",
       "      <td>2024-04-02 03:02:59.999</td>\n",
       "      <td>172659.500000</td>\n",
       "      <td>893</td>\n",
       "      <td>1.051164e+05</td>\n",
       "      <td>2024-04-02 00:02:00</td>\n",
       "      <td>0.712900</td>\n",
       "      <td>7345</td>\n",
       "      <td>ZRXUSDT</td>\n",
       "      <td>0.003000</td>\n",
       "      <td>0.004400</td>\n",
       "      <td>0.691400</td>\n",
       "      <td>0.68804</td>\n",
       "      <td>0.002817</td>\n",
       "      <td>0.693673</td>\n",
       "      <td>0.682407</td>\n",
       "      <td>-0.003000</td>\n",
       "      <td>0.000000</td>\n",
       "      <td>0.003000</td>\n",
       "      <td>0.001281</td>\n",
       "      <td>0.001192</td>\n",
       "      <td>1.074611</td>\n",
       "      <td>51.798191</td>\n",
       "      <td>-0.004330</td>\n",
       "    </tr>\n",
       "  </tbody>\n",
       "</table>\n",
       "<p>1990766 rows × 29 columns</p>\n",
       "</div>"
      ],
      "text/plain": [
       "                         ds      Open      High       Low     Close  \\\n",
       "0       2024-03-12 22:35:00  0.028353  0.028359  0.028323  0.028343   \n",
       "1       2024-03-12 22:36:00  0.028342  0.028354  0.028275  0.028319   \n",
       "2       2024-03-12 22:37:00  0.028319  0.028342  0.028305  0.028333   \n",
       "3       2024-03-12 22:38:00  0.028334  0.028349  0.028319  0.028336   \n",
       "4       2024-03-12 22:39:00  0.028333  0.028403  0.028333  0.028382   \n",
       "...                     ...       ...       ...       ...       ...   \n",
       "1990761 2024-04-02 02:58:00  0.689800  0.690000  0.686700  0.687400   \n",
       "1990762 2024-04-02 02:59:00  0.687400  0.688000  0.686700  0.687200   \n",
       "1990763 2024-04-02 03:00:00  0.687200  0.689900  0.686700  0.689800   \n",
       "1990764 2024-04-02 03:01:00  0.689700  0.693300  0.688500  0.692900   \n",
       "1990765 2024-04-02 03:02:00  0.692900  0.692900  0.688500  0.689900   \n",
       "\n",
       "               Volume              Close time  Quote asset volume  \\\n",
       "0        1.731354e+06 2024-03-12 22:35:59.999        49064.449219   \n",
       "1        4.202372e+06 2024-03-12 22:36:59.999       118950.156250   \n",
       "2        1.677868e+06 2024-03-12 22:37:59.999        47526.148438   \n",
       "3        1.428227e+06 2024-03-12 22:38:59.999        40467.351562   \n",
       "4        3.360009e+06 2024-03-12 22:39:59.999        95359.367188   \n",
       "...               ...                     ...                 ...   \n",
       "1990761  2.216839e+05 2024-04-02 02:58:59.999       152591.500000   \n",
       "1990762  1.764899e+05 2024-04-02 02:59:59.999       121327.484375   \n",
       "1990763  3.126888e+05 2024-04-02 03:00:59.999       215123.703125   \n",
       "1990764  3.684429e+05 2024-04-02 03:01:59.999       254735.437500   \n",
       "1990765  2.500907e+05 2024-04-02 03:02:59.999       172659.500000   \n",
       "\n",
       "         Number of trades  Taker buy base asset volume          Time_alert  \\\n",
       "0                     443                 4.197650e+05 2024-03-13 00:04:00   \n",
       "1                     737                 1.497496e+06 2024-03-13 00:04:00   \n",
       "2                     398                 9.582670e+05 2024-03-13 00:04:00   \n",
       "3                     307                 8.427180e+05 2024-03-13 00:04:00   \n",
       "4                     545                 1.774116e+06 2024-03-13 00:04:00   \n",
       "...                   ...                          ...                 ...   \n",
       "1990761               710                 8.560630e+04 2024-04-02 00:02:00   \n",
       "1990762               633                 9.726340e+04 2024-04-02 00:02:00   \n",
       "1990763              1120                 2.141299e+05 2024-04-02 00:02:00   \n",
       "1990764              1090                 2.192688e+05 2024-04-02 00:02:00   \n",
       "1990765               893                 1.051164e+05 2024-04-02 00:02:00   \n",
       "\n",
       "         Price_alert  batch         token  Price_Change  min_max_range  \\\n",
       "0           0.029114      0  1000BONKUSDT      0.000010       0.000036   \n",
       "1           0.029114      0  1000BONKUSDT      0.000023       0.000079   \n",
       "2           0.029114      0  1000BONKUSDT     -0.000014       0.000037   \n",
       "3           0.029114      0  1000BONKUSDT     -0.000002       0.000030   \n",
       "4           0.029114      0  1000BONKUSDT     -0.000049       0.000070   \n",
       "...              ...    ...           ...           ...            ...   \n",
       "1990761     0.712900   7345       ZRXUSDT      0.002400       0.003300   \n",
       "1990762     0.712900   7345       ZRXUSDT      0.000200       0.001300   \n",
       "1990763     0.712900   7345       ZRXUSDT     -0.002600       0.003200   \n",
       "1990764     0.712900   7345       ZRXUSDT     -0.003200       0.004800   \n",
       "1990765     0.712900   7345       ZRXUSDT      0.003000       0.004400   \n",
       "\n",
       "                y     MACD  Standard Deviation  Upper Bolinger Band  \\\n",
       "0        0.028348      NaN                 NaN                  NaN   \n",
       "1        0.028330      NaN                 NaN                  NaN   \n",
       "2        0.028326      NaN                 NaN                  NaN   \n",
       "3        0.028335      NaN                 NaN                  NaN   \n",
       "4        0.028358      NaN                 NaN                  NaN   \n",
       "...           ...      ...                 ...                  ...   \n",
       "1990761  0.688600  0.68737            0.002069             0.691509   \n",
       "1990762  0.687300  0.68733            0.002068             0.691467   \n",
       "1990763  0.688500  0.68754            0.002212             0.691963   \n",
       "1990764  0.691300  0.68788            0.002744             0.693368   \n",
       "1990765  0.691400  0.68804            0.002817             0.693673   \n",
       "\n",
       "         Lower Bolinger Band  Close Delta      Gain      Loss  EMA Gain  \\\n",
       "0                        NaN          NaN       NaN       NaN       NaN   \n",
       "1                        NaN    -0.000024  0.000000  0.000024  0.000000   \n",
       "2                        NaN     0.000014  0.000014  0.000000  0.000007   \n",
       "3                        NaN     0.000003  0.000003  0.000000  0.000006   \n",
       "4                        NaN     0.000046  0.000046  0.000000  0.000017   \n",
       "...                      ...          ...       ...       ...       ...   \n",
       "1990761             0.683231    -0.002300  0.000000  0.002300  0.001215   \n",
       "1990762             0.683193    -0.000200  0.000000  0.000200  0.001104   \n",
       "1990763             0.683117     0.002600  0.002600  0.000000  0.001240   \n",
       "1990764             0.682392     0.003100  0.003100  0.000000  0.001409   \n",
       "1990765             0.682407    -0.003000  0.000000  0.003000  0.001281   \n",
       "\n",
       "         EMA Loss  Relative Strength        RSI  Daily_Return  \n",
       "0             NaN                NaN        NaN           NaN  \n",
       "1        0.000024           0.000000   0.000000     -0.000847  \n",
       "2        0.000011           0.641731  39.088670      0.000494  \n",
       "3        0.000007           0.792922  44.225125      0.000106  \n",
       "4        0.000005           3.343980  76.979634      0.001623  \n",
       "...           ...                ...        ...           ...  \n",
       "1990761  0.001326           0.915870  47.804385     -0.003335  \n",
       "1990762  0.001224           0.902264  47.431069     -0.000291  \n",
       "1990763  0.001113           1.114724  52.712502      0.003783  \n",
       "1990764  0.001011           1.393369  58.217897      0.004494  \n",
       "1990765  0.001192           1.074611  51.798191     -0.004330  \n",
       "\n",
       "[1990766 rows x 29 columns]"
      ]
     },
     "execution_count": 68,
     "metadata": {},
     "output_type": "execute_result"
    }
   ],
   "source": [
    "df"
   ]
  },
  {
   "cell_type": "code",
   "execution_count": 23,
   "id": "1e9be9fe-84fd-4f55-80bc-7eb59d5ffd55",
   "metadata": {},
   "outputs": [],
   "source": [
    "new_features = df.columns[17:].values"
   ]
  },
  {
   "cell_type": "code",
   "execution_count": 24,
   "id": "4cf496b9-677b-4e32-afd9-b91b580de969",
   "metadata": {},
   "outputs": [
    {
     "data": {
      "text/plain": [
       "array(['MACD', 'Standard Deviation', 'Upper Bolinger Band',\n",
       "       'Lower Bolinger Band', 'Close Delta', 'Gain', 'Loss', 'EMA Gain',\n",
       "       'EMA Loss', 'Relative Strength', 'RSI', 'Daily_Return'],\n",
       "      dtype=object)"
      ]
     },
     "execution_count": 24,
     "metadata": {},
     "output_type": "execute_result"
    }
   ],
   "source": [
    "new_features"
   ]
  },
  {
   "cell_type": "code",
   "execution_count": 69,
   "id": "98fb4a44-575c-4fee-94c0-165f57b09fff",
   "metadata": {},
   "outputs": [
    {
     "name": "stderr",
     "output_type": "stream",
     "text": [
      "  8%|██████▉                                                                            | 1/12 [00:25<04:44, 25.82s/it]"
     ]
    },
    {
     "name": "stdout",
     "output_type": "stream",
     "text": [
      "влияние выбросов по MACD на аллерт: (9, 7337)\n"
     ]
    },
    {
     "name": "stderr",
     "output_type": "stream",
     "text": [
      " 17%|█████████████▊                                                                     | 2/12 [00:51<04:16, 25.69s/it]"
     ]
    },
    {
     "name": "stdout",
     "output_type": "stream",
     "text": [
      "влияние выбросов по Standard Deviation на аллерт: (1123, 6223)\n"
     ]
    },
    {
     "name": "stderr",
     "output_type": "stream",
     "text": [
      " 25%|████████████████████▊                                                              | 3/12 [01:16<03:50, 25.62s/it]"
     ]
    },
    {
     "name": "stdout",
     "output_type": "stream",
     "text": [
      "влияние выбросов по Upper Bolinger Band на аллерт: (55, 7291)\n"
     ]
    },
    {
     "name": "stderr",
     "output_type": "stream",
     "text": [
      " 33%|███████████████████████████▋                                                       | 4/12 [01:42<03:24, 25.56s/it]"
     ]
    },
    {
     "name": "stdout",
     "output_type": "stream",
     "text": [
      "влияние выбросов по Lower Bolinger Band на аллерт: (9, 7337)\n"
     ]
    },
    {
     "name": "stderr",
     "output_type": "stream",
     "text": [
      " 42%|██████████████████████████████████▌                                                | 5/12 [02:07<02:58, 25.56s/it]"
     ]
    },
    {
     "name": "stdout",
     "output_type": "stream",
     "text": [
      "влияние выбросов по Close Delta на аллерт: (5840, 1506)\n"
     ]
    },
    {
     "name": "stderr",
     "output_type": "stream",
     "text": [
      " 50%|█████████████████████████████████████████▌                                         | 6/12 [02:33<02:33, 25.58s/it]"
     ]
    },
    {
     "name": "stdout",
     "output_type": "stream",
     "text": [
      "влияние выбросов по Gain на аллерт: (6858, 488)\n"
     ]
    },
    {
     "name": "stderr",
     "output_type": "stream",
     "text": [
      " 58%|████████████████████████████████████████████████▍                                  | 7/12 [02:59<02:07, 25.60s/it]"
     ]
    },
    {
     "name": "stdout",
     "output_type": "stream",
     "text": [
      "влияние выбросов по Loss на аллерт: (38, 7308)\n"
     ]
    },
    {
     "name": "stderr",
     "output_type": "stream",
     "text": [
      " 67%|███████████████████████████████████████████████████████▎                           | 8/12 [03:24<01:42, 25.59s/it]"
     ]
    },
    {
     "name": "stdout",
     "output_type": "stream",
     "text": [
      "влияние выбросов по EMA Gain на аллерт: (2378, 4968)\n"
     ]
    },
    {
     "name": "stderr",
     "output_type": "stream",
     "text": [
      " 75%|██████████████████████████████████████████████████████████████▎                    | 9/12 [03:50<01:16, 25.56s/it]"
     ]
    },
    {
     "name": "stdout",
     "output_type": "stream",
     "text": [
      "влияние выбросов по EMA Loss на аллерт: (14, 7332)\n"
     ]
    },
    {
     "name": "stderr",
     "output_type": "stream",
     "text": [
      " 83%|████████████████████████████████████████████████████████████████████▎             | 10/12 [04:15<00:51, 25.59s/it]"
     ]
    },
    {
     "name": "stdout",
     "output_type": "stream",
     "text": [
      "влияние выбросов по Relative Strength на аллерт: (3774, 3572)\n"
     ]
    },
    {
     "name": "stderr",
     "output_type": "stream",
     "text": [
      " 92%|███████████████████████████████████████████████████████████████████████████▏      | 11/12 [04:41<00:25, 25.62s/it]"
     ]
    },
    {
     "name": "stdout",
     "output_type": "stream",
     "text": [
      "влияние выбросов по RSI на аллерт: (536, 6810)\n"
     ]
    },
    {
     "name": "stderr",
     "output_type": "stream",
     "text": [
      "100%|██████████████████████████████████████████████████████████████████████████████████| 12/12 [05:07<00:00, 25.59s/it]"
     ]
    },
    {
     "name": "stdout",
     "output_type": "stream",
     "text": [
      "влияние выбросов по Daily_Return на аллерт: (5849, 1497)\n"
     ]
    },
    {
     "name": "stderr",
     "output_type": "stream",
     "text": [
      "\n"
     ]
    }
   ],
   "source": [
    "_1000BONKUSDT_pivort = pd.pivot_table(df, \n",
    "                                     values='Time_alert',\n",
    "                                     index='batch',\n",
    "                                     aggfunc='max')\n",
    "\n",
    "for track in tqdm(new_features):\n",
    "    yes=0\n",
    "    no=0\n",
    "    for i in range(0,7346):\n",
    "        data_s = df[(df['batch']==i)]\n",
    "        _1000BONKUSDT_iqr = data_s[track].quantile(0.75) - data_s[track].quantile(0.25)\n",
    "        _1000BONKUSDT_upper_bound = (data_s[track].quantile(0.75) + 1.5 * _1000BONKUSDT_iqr).astype('float32')\n",
    "\n",
    "        # Посмотрим есть ли у токена выбросы\n",
    "        _1000BONKUSDT_outliers = data_s[data_s[track] > _1000BONKUSDT_upper_bound]\n",
    "\n",
    "        # Посмотрим есть ли точка алерта в выбросах\n",
    "        booler = str(_1000BONKUSDT_pivort.loc[i].values[0]) in [str(i) for i in _1000BONKUSDT_outliers['ds'].values]\n",
    "        if booler==True:\n",
    "            yes+=1\n",
    "        else:\n",
    "            no+=1\n",
    "    print(f'влияние выбросов по {track} на аллерт: {yes, no}')"
   ]
  },
  {
   "cell_type": "code",
   "execution_count": null,
   "id": "388728db",
   "metadata": {},
   "outputs": [],
   "source": [
    "features = ['High', 'Gain', 'Taker buy base asset volume', 'Number of trades']\n",
    "for i in df['token'].unique()[:20]:\n",
    "    mask = np.triu(np.ones_like(df[df['token']==i][features].corr()))\n",
    "    plt.figure(figsize=(18,12))\n",
    "    plt.title(f'Корреляция существенных для алерта признаков по токену: {i}')\n",
    "    sns.heatmap(df[df['token']==i][features].corr(), annot=True, mask=mask, cmap='crest')\n",
    "    plt.show()"
   ]
  },
  {
   "cell_type": "code",
   "execution_count": 27,
   "id": "5956e40f-0ece-48b0-a141-1dfec5dcdf50",
   "metadata": {},
   "outputs": [],
   "source": [
    "#По опыту можно сделать вывод, что по при выбросе показателя дельты происходит алерт т.е. все сходится на том, что алерт происходит при нетипичной ситуации на рыке, т.к. gain произростает от\n",
    "# норамльности или ненормальности данных, следовательно при совпадении показателей Taker buy base asset особенно ,Number of trades, Quote asset volume, Volume, Gain , Close Delta\n",
    "# происходит импульс, который дает сигнал на вход в сделку"
   ]
  },
  {
   "cell_type": "code",
   "execution_count": 9,
   "id": "7f7fedb8",
   "metadata": {},
   "outputs": [],
   "source": [
    "# По признакам 'High', 'Gain', 'Taker buy base asset volume', 'Number of trades' я будуу использовать только один из этих признаков\n",
    "# при построении стратегии, т.к. фичи достаточно зависимы друг от друга"
   ]
  },
  {
   "cell_type": "code",
   "execution_count": 70,
   "id": "05699353-9102-44a7-b496-5bf5844cedff",
   "metadata": {},
   "outputs": [
    {
     "name": "stderr",
     "output_type": "stream",
     "text": [
      "100%|█████████████████████████████████████████████████████████████████████████████| 7346/7346 [00:30<00:00, 244.07it/s]\n"
     ]
    }
   ],
   "source": [
    "tocken_volatility = np.zeros_like(df['Daily_Return'])\n",
    "period = 10  # You can adjust this value based on your preference\n",
    "for i in tqdm(range(0,7346)):\n",
    "    tocken_volatility[df[df['batch']==i].index] = df.loc[df['batch']==i]['Daily_Return'].rolling(window=period).std()"
   ]
  },
  {
   "cell_type": "code",
   "execution_count": null,
   "id": "8c28307b",
   "metadata": {},
   "outputs": [],
   "source": [
    "plt.figure(figsize=(12, 6))\n",
    "plt.plot(df['ds'], tocken_volatility, label='Tocken Volatility', color='orange')\n",
    "plt.title('Volatility of Tocken Prices')\n",
    "plt.xlabel('Date')\n",
    "plt.ylabel('Volatility')\n",
    "plt.legend()\n",
    "plt.grid(True)\n",
    "plt.show()"
   ]
  },
  {
   "cell_type": "code",
   "execution_count": null,
   "id": "1511f0d7",
   "metadata": {},
   "outputs": [],
   "source": [
    "# В целом "
   ]
  },
  {
   "cell_type": "code",
   "execution_count": 83,
   "id": "274f7aa4-a78f-41f4-83ce-0d4f3fb294dc",
   "metadata": {},
   "outputs": [],
   "source": [
    "df.to_parquet(r'C:\\Users\\aleksandrovva1\\Desktop\\data science\\crypto\\all_df.pq')"
   ]
  },
  {
   "cell_type": "code",
   "execution_count": 78,
   "id": "101c94a4",
   "metadata": {},
   "outputs": [],
   "source": [
    "reproc_ = df.select_dtypes(np.float64).columns"
   ]
  },
  {
   "cell_type": "code",
   "execution_count": 81,
   "id": "65d70dd5",
   "metadata": {},
   "outputs": [],
   "source": [
    "df[reproc_] = df[reproc_].astype(np.float32)"
   ]
  },
  {
   "cell_type": "code",
   "execution_count": null,
   "id": "18902341",
   "metadata": {},
   "outputs": [],
   "source": [
    "for i in range(0,100): \n",
    "    plt.rcParams['axes.facecolor'] = 'white'\n",
    "    fig, ax = plt.subplots(2,1, figsize=(24,11))\n",
    "    #plt.subplot(2, 1, 2)\n",
    "    ax[0].plot(df[df['batch']==i]['ds'], df[df['batch']==i]['High'], label=f'{i} Close', color='orange')\n",
    "    ax[0].plot(df[df['batch']==i]['ds'], df[df['batch']==i]['Upper Bolinger Band'], color='blue')\n",
    "    ax[0].plot(df[df['batch']==i]['ds'], df[df['batch']==i]['Lower Bolinger Band'], color='green')\n",
    "    ax[1].plot(df[df['batch']==i]['ds'], df[df['batch']==i]['RSI'], color='red')\n",
    "    ax[0].scatter(df[df['batch']==i]['Time_alert'], df[df['batch']==i]['Price_alert'], c='black')\n",
    "    ax[0].plot(df[df['batch']==i]['ds'], df[df['batch']==i]['MACD'], label=f'{i} EMA ({period} days)', color='red')\n",
    "    plt.title(f'Цены по токену {i} и метрики средних')\n",
    "    plt.xlabel('Date')\n",
    "    plt.ylabel('Price')\n",
    "    plt.legend()\n",
    "    plt.grid(True)\n",
    "\n",
    "    plt.tight_layout()\n",
    "    plt.show()\n",
    "    print('**********'*10)"
   ]
  },
  {
   "cell_type": "code",
   "execution_count": 106,
   "id": "4cea2ac1",
   "metadata": {},
   "outputs": [],
   "source": [
    "# Как можно наблюдать на графиках алерт происходит при пересечении верхней линии полосы болинжера, либо при ее соприкасании\n",
    "# Также стоит отметить, что на алерты имее влияние сила тренда RSI, при достижении этого показателя больше 70 происходит аллерт\n",
    "# стоит также отметить, что алерт наступает не сразу, а при повторном наступлении события пересечения верхней полосы болинжера \n",
    "# и всплеска показателя RSI, на графиках видна ситауция, когда алерт распологается зачастую выше средневсвешанной цены за минуту\n",
    "# при этом полоса болинжера зачастую непересечена, это можно объяснить тем, что согласно событиям произошел кратковременный всплеск\n",
    "# цены, когда она пересекала полосу, т.е. сигналом служит реское изменение цены"
   ]
  },
  {
   "cell_type": "code",
   "execution_count": 200,
   "id": "fc43b9c6",
   "metadata": {},
   "outputs": [],
   "source": [
    "def trade_strategy(df, batch, trade_long_start, trade_short_start):\n",
    "    sample = df[df['batch']==batch].reset_index().copy()\n",
    "    \n",
    "    # контейнеры для данных \n",
    "    entry_time = []\n",
    "    exit_time = []\n",
    "    trade_side = []\n",
    "    bb_h_value = []\n",
    "    bb_l_value = []\n",
    "    rsi_value = []\n",
    "    entry_price = []\n",
    "    exit_price = []\n",
    "    macd_value = []\n",
    "    volume_value = []\n",
    "    target_price = []\n",
    "    stop_price = []\n",
    "\n",
    "    # временные переменные\n",
    "    trade_taken = False\n",
    "    target = 0\n",
    "    stop = 0\n",
    "\n",
    "    for index,datetime in zip(sample.index, sample['ds']):\n",
    "        # переменные по данным \n",
    "        current_datetime = datetime\n",
    "        rsi = sample.iloc[index][\"RSI\"]\n",
    "        medium = sample.iloc[index]['High']\n",
    "        macd = sample.iloc[index]['MACD']\n",
    "        volume = sample.iloc[index]['Volume']\n",
    "        upper_bolinger = sample.iloc[index]['Upper Bolinger Band']\n",
    "        lower_bolinger = sample.iloc[index]['Lower Bolinger Band']\n",
    "        \n",
    "        volume_iqr = sample['Volume'].quantile(0.75) - sample['Volume'].quantile(0.25)\n",
    "        volume_upper_bound = (sample['Volume'].quantile(0.75) + 1.5 * volume_iqr).astype('float32')\n",
    "        \n",
    "        # Выбираем те сигналя, по которым динамика RSI наиболее благоприятна \n",
    "        if ((rsi > trade_long_start) and (rsi < trade_short_start) and (trade_taken == False) and (volume >= volume_upper_bound)):\n",
    "            continue\n",
    "        # проверяю наличие новой шортового сигнала    \n",
    "        elif ((rsi <= trade_short_start) and (trade_taken == False) and (lower_bolinger <= medium) and (macd >= medium)  and (index != sample.shape[0]-1)):#(macd <= medium)\n",
    "            trade_taken = \"short_entered\"\n",
    "            short_target = medium*0.98\n",
    "            short_stop = medium*1.025\n",
    "            \n",
    "            entry_time.append(current_datetime)\n",
    "            rsi_value.append(rsi)\n",
    "            macd_value.append(macd)\n",
    "            volume_value.append(volume)\n",
    "            bb_h_value.append(upper_bolinger)\n",
    "            bb_l_value.append(lower_bolinger)\n",
    "            trade_side.append(\"short\")\n",
    "            entry_price.append(medium)\n",
    "            target_price.append(short_target)\n",
    "            stop_price.append(short_stop)\n",
    "\n",
    "        # просмотр цены на предмет выхода из сделки      \n",
    "        elif (trade_taken == \"short_entered\") and (medium > short_stop):\n",
    "\n",
    "            trade_taken = False\n",
    "            exit_time.append(current_datetime) \n",
    "            exit_price.append(medium)\n",
    "\n",
    "        # просмотр цены на предмет выхода из сделки\n",
    "        elif (trade_taken == \"short_entered\") and (medium < short_target):\n",
    "\n",
    "            trade_taken = False\n",
    "            exit_time.append(current_datetime) \n",
    "            exit_price.append(medium)\n",
    "            \n",
    "            \n",
    "        #Поиск возможностей для лонга\n",
    "        elif ((rsi >= trade_long_start) and (trade_taken == False) and (upper_bolinger >= medium) and (macd <= medium) and (index != sample.shape[0]-1)): #and (macd >= medium)\n",
    "            trade_taken = \"long_entered\"\n",
    "            long_target = medium*1.02\n",
    "            long_stop = medium*0.975\n",
    "\n",
    "            entry_time.append(current_datetime)\n",
    "            rsi_value.append(rsi)\n",
    "            macd_value.append(macd)\n",
    "            volume_value.append(volume)\n",
    "            bb_h_value.append(upper_bolinger)\n",
    "            bb_l_value.append(lower_bolinger)\n",
    "            trade_side.append(\"long\")\n",
    "            entry_price.append(medium)\n",
    "            target_price.append(long_target)\n",
    "            stop_price.append(long_stop)\n",
    "\n",
    "        elif (trade_taken == \"long_entered\") and (medium < long_stop):\n",
    "\n",
    "            trade_taken = False\n",
    "            exit_time.append(current_datetime)  \n",
    "            exit_price.append(medium)\n",
    "        \n",
    "            \n",
    "        elif (trade_taken == \"long_entered\") and (medium > long_target):\n",
    "\n",
    "            trade_taken = False\n",
    "            exit_time.append(current_datetime)  \n",
    "            exit_price.append(medium)\n",
    "            \n",
    "\n",
    "        # (Код для сбережения денег) если при последнем вводе данных мы все еще удерживаем сделку, то отменяем сделку\n",
    "        elif (index == (len(sample) - 1)) and (trade_taken != False):\n",
    "\n",
    "            trade_taken = False\n",
    "            exit_time.append(current_datetime)\n",
    "            exit_price.append(medium)  \n",
    "    #print(len(entry_time), len(exit_time), len(rsi_value), len(bb_h_value), len(bb_l_value), len(macd_value), len(volume_value), len(trade_side), len(entry_price), len(target_price), len(stop_price))\n",
    "    trade_sheet = pd.DataFrame({\n",
    "                                \"BATCH\":batch,\n",
    "                               \"token_name\":sample['token'].unique()[0],\n",
    "                               \"entry_time\":entry_time,\n",
    "                               \"exit_time\":exit_time,\n",
    "                               \"rsi_value\":rsi_value,\n",
    "                               \"bb_h_value\":bb_h_value,\n",
    "                               \"bb_l_value\":bb_l_value,\n",
    "                               \"macd_value\": macd_value,\n",
    "                               \"volume_value\": volume_value,\n",
    "                               \"trade_side\":trade_side,\n",
    "                               \"entry_price\":entry_price,\n",
    "                               \"exit_price\":exit_price,\n",
    "                               \"target_price\":target_price,\n",
    "                               \"stop_price\":stop_price})\n",
    "\n",
    "    # расчет возможной прибыли\n",
    "    trade_sheet[\"pnl\"] = 0\n",
    "\n",
    "    short_deal = trade_sheet['trade_side'] == \"short\"\n",
    "    long_deal = trade_sheet['trade_side'] == \"long\"\n",
    "    trade_sheet.loc[short_deal,\"pnl\"] = trade_sheet.loc[short_deal,\"entry_price\"] - trade_sheet.loc[short_deal,\"exit_price\"]\n",
    "    trade_sheet.loc[long_deal,\"pnl\"] = trade_sheet.loc[long_deal,\"exit_price\"] - trade_sheet.loc[long_deal,\"entry_price\"]\n",
    "    return trade_sheet"
   ]
  },
  {
   "cell_type": "code",
   "execution_count": 201,
   "id": "98e2beac",
   "metadata": {},
   "outputs": [
    {
     "name": "stderr",
     "output_type": "stream",
     "text": [
      "100%|██████████████████████████████████████████████████████████████████████████████| 7346/7346 [46:12<00:00,  2.65it/s]\n"
     ]
    }
   ],
   "source": [
    "all_dfff = pd.DataFrame()\n",
    "for i in tqdm(range(0,7346)):\n",
    "    sheet = trade_strategy(df, i, 20, 80)\n",
    "    all_dfff = pd.concat([all_dfff, sheet])"
   ]
  },
  {
   "cell_type": "code",
   "execution_count": 10,
   "id": "e36f75e1",
   "metadata": {},
   "outputs": [],
   "source": [
    "# Скрипт для проверки сигналов по стратегии торговли"
   ]
  },
  {
   "cell_type": "code",
   "execution_count": 185,
   "id": "776a6eb0",
   "metadata": {},
   "outputs": [
    {
     "ename": "KeyError",
     "evalue": "'BATCH'",
     "output_type": "error",
     "traceback": [
      "\u001b[1;31m---------------------------------------------------------------------------\u001b[0m",
      "\u001b[1;31mKeyError\u001b[0m                                  Traceback (most recent call last)",
      "Cell \u001b[1;32mIn[185], line 12\u001b[0m\n\u001b[0;32m     10\u001b[0m ax[\u001b[38;5;241m0\u001b[39m]\u001b[38;5;241m.\u001b[39mscatter(df[df[\u001b[38;5;124m'\u001b[39m\u001b[38;5;124mbatch\u001b[39m\u001b[38;5;124m'\u001b[39m]\u001b[38;5;241m==\u001b[39mi][\u001b[38;5;124m'\u001b[39m\u001b[38;5;124mTime_alert\u001b[39m\u001b[38;5;124m'\u001b[39m], df[df[\u001b[38;5;124m'\u001b[39m\u001b[38;5;124mbatch\u001b[39m\u001b[38;5;124m'\u001b[39m]\u001b[38;5;241m==\u001b[39mi][\u001b[38;5;124m'\u001b[39m\u001b[38;5;124mPrice_alert\u001b[39m\u001b[38;5;124m'\u001b[39m], c\u001b[38;5;241m=\u001b[39m\u001b[38;5;124m'\u001b[39m\u001b[38;5;124mblack\u001b[39m\u001b[38;5;124m'\u001b[39m)\n\u001b[0;32m     11\u001b[0m ax[\u001b[38;5;241m0\u001b[39m]\u001b[38;5;241m.\u001b[39mplot(df[df[\u001b[38;5;124m'\u001b[39m\u001b[38;5;124mbatch\u001b[39m\u001b[38;5;124m'\u001b[39m]\u001b[38;5;241m==\u001b[39mi][\u001b[38;5;124m'\u001b[39m\u001b[38;5;124mds\u001b[39m\u001b[38;5;124m'\u001b[39m], df[df[\u001b[38;5;124m'\u001b[39m\u001b[38;5;124mbatch\u001b[39m\u001b[38;5;124m'\u001b[39m]\u001b[38;5;241m==\u001b[39mi][\u001b[38;5;124m'\u001b[39m\u001b[38;5;124mMACD\u001b[39m\u001b[38;5;124m'\u001b[39m], label\u001b[38;5;241m=\u001b[39m\u001b[38;5;124mf\u001b[39m\u001b[38;5;124m'\u001b[39m\u001b[38;5;132;01m{\u001b[39;00mi\u001b[38;5;132;01m}\u001b[39;00m\u001b[38;5;124m EMA (\u001b[39m\u001b[38;5;132;01m{\u001b[39;00mperiod\u001b[38;5;132;01m}\u001b[39;00m\u001b[38;5;124m days)\u001b[39m\u001b[38;5;124m'\u001b[39m, color\u001b[38;5;241m=\u001b[39m\u001b[38;5;124m'\u001b[39m\u001b[38;5;124mred\u001b[39m\u001b[38;5;124m'\u001b[39m)\n\u001b[1;32m---> 12\u001b[0m ax[\u001b[38;5;241m0\u001b[39m]\u001b[38;5;241m.\u001b[39mscatter(all_dfff[\u001b[43mall_dfff\u001b[49m\u001b[43m[\u001b[49m\u001b[38;5;124;43m'\u001b[39;49m\u001b[38;5;124;43mBATCH\u001b[39;49m\u001b[38;5;124;43m'\u001b[39;49m\u001b[43m]\u001b[49m\u001b[38;5;241m==\u001b[39mi][\u001b[38;5;124m'\u001b[39m\u001b[38;5;124mentry_time\u001b[39m\u001b[38;5;124m'\u001b[39m], all_dfff[all_dfff[\u001b[38;5;124m'\u001b[39m\u001b[38;5;124mBATCH\u001b[39m\u001b[38;5;124m'\u001b[39m]\u001b[38;5;241m==\u001b[39mi][\u001b[38;5;124m'\u001b[39m\u001b[38;5;124mentry_price\u001b[39m\u001b[38;5;124m'\u001b[39m], label\u001b[38;5;241m=\u001b[39m\u001b[38;5;124mf\u001b[39m\u001b[38;5;124m'\u001b[39m\u001b[38;5;132;01m{\u001b[39;00mi\u001b[38;5;132;01m}\u001b[39;00m\u001b[38;5;124m EMA (\u001b[39m\u001b[38;5;132;01m{\u001b[39;00mperiod\u001b[38;5;132;01m}\u001b[39;00m\u001b[38;5;124m days)\u001b[39m\u001b[38;5;124m'\u001b[39m, marker\u001b[38;5;241m=\u001b[39m\u001b[38;5;124m'\u001b[39m\u001b[38;5;124mv\u001b[39m\u001b[38;5;124m'\u001b[39m, color\u001b[38;5;241m=\u001b[39m\u001b[38;5;124m'\u001b[39m\u001b[38;5;124mgreen\u001b[39m\u001b[38;5;124m'\u001b[39m, s\u001b[38;5;241m=\u001b[39m\u001b[38;5;241m100\u001b[39m)\n\u001b[0;32m     13\u001b[0m ax[\u001b[38;5;241m0\u001b[39m]\u001b[38;5;241m.\u001b[39mscatter(all_dfff[all_dfff[\u001b[38;5;124m'\u001b[39m\u001b[38;5;124mBATCH\u001b[39m\u001b[38;5;124m'\u001b[39m]\u001b[38;5;241m==\u001b[39mi][\u001b[38;5;124m'\u001b[39m\u001b[38;5;124mexit_time\u001b[39m\u001b[38;5;124m'\u001b[39m], all_dfff[all_dfff[\u001b[38;5;124m'\u001b[39m\u001b[38;5;124mBATCH\u001b[39m\u001b[38;5;124m'\u001b[39m]\u001b[38;5;241m==\u001b[39mi][\u001b[38;5;124m'\u001b[39m\u001b[38;5;124mexit_price\u001b[39m\u001b[38;5;124m'\u001b[39m], label\u001b[38;5;241m=\u001b[39m\u001b[38;5;124mf\u001b[39m\u001b[38;5;124m'\u001b[39m\u001b[38;5;132;01m{\u001b[39;00mi\u001b[38;5;132;01m}\u001b[39;00m\u001b[38;5;124m EMA (\u001b[39m\u001b[38;5;132;01m{\u001b[39;00mperiod\u001b[38;5;132;01m}\u001b[39;00m\u001b[38;5;124m days)\u001b[39m\u001b[38;5;124m'\u001b[39m, marker\u001b[38;5;241m=\u001b[39m\u001b[38;5;124m'\u001b[39m\u001b[38;5;124m^\u001b[39m\u001b[38;5;124m'\u001b[39m, color\u001b[38;5;241m=\u001b[39m\u001b[38;5;124m'\u001b[39m\u001b[38;5;124mred\u001b[39m\u001b[38;5;124m'\u001b[39m, s\u001b[38;5;241m=\u001b[39m\u001b[38;5;241m100\u001b[39m)\n\u001b[0;32m     14\u001b[0m plt\u001b[38;5;241m.\u001b[39mtitle(\u001b[38;5;124mf\u001b[39m\u001b[38;5;124m'\u001b[39m\u001b[38;5;124mЦены по токену \u001b[39m\u001b[38;5;132;01m{\u001b[39;00mi\u001b[38;5;132;01m}\u001b[39;00m\u001b[38;5;124m и метрики средних\u001b[39m\u001b[38;5;124m'\u001b[39m)\n",
      "File \u001b[1;32m~\\anaconda3\\lib\\site-packages\\pandas\\core\\frame.py:4090\u001b[0m, in \u001b[0;36mDataFrame.__getitem__\u001b[1;34m(self, key)\u001b[0m\n\u001b[0;32m   4088\u001b[0m \u001b[38;5;28;01mif\u001b[39;00m \u001b[38;5;28mself\u001b[39m\u001b[38;5;241m.\u001b[39mcolumns\u001b[38;5;241m.\u001b[39mnlevels \u001b[38;5;241m>\u001b[39m \u001b[38;5;241m1\u001b[39m:\n\u001b[0;32m   4089\u001b[0m     \u001b[38;5;28;01mreturn\u001b[39;00m \u001b[38;5;28mself\u001b[39m\u001b[38;5;241m.\u001b[39m_getitem_multilevel(key)\n\u001b[1;32m-> 4090\u001b[0m indexer \u001b[38;5;241m=\u001b[39m \u001b[38;5;28;43mself\u001b[39;49m\u001b[38;5;241;43m.\u001b[39;49m\u001b[43mcolumns\u001b[49m\u001b[38;5;241;43m.\u001b[39;49m\u001b[43mget_loc\u001b[49m\u001b[43m(\u001b[49m\u001b[43mkey\u001b[49m\u001b[43m)\u001b[49m\n\u001b[0;32m   4091\u001b[0m \u001b[38;5;28;01mif\u001b[39;00m is_integer(indexer):\n\u001b[0;32m   4092\u001b[0m     indexer \u001b[38;5;241m=\u001b[39m [indexer]\n",
      "File \u001b[1;32m~\\anaconda3\\lib\\site-packages\\pandas\\core\\indexes\\range.py:417\u001b[0m, in \u001b[0;36mRangeIndex.get_loc\u001b[1;34m(self, key)\u001b[0m\n\u001b[0;32m    415\u001b[0m         \u001b[38;5;28;01mraise\u001b[39;00m \u001b[38;5;167;01mKeyError\u001b[39;00m(key) \u001b[38;5;28;01mfrom\u001b[39;00m \u001b[38;5;21;01merr\u001b[39;00m\n\u001b[0;32m    416\u001b[0m \u001b[38;5;28;01mif\u001b[39;00m \u001b[38;5;28misinstance\u001b[39m(key, Hashable):\n\u001b[1;32m--> 417\u001b[0m     \u001b[38;5;28;01mraise\u001b[39;00m \u001b[38;5;167;01mKeyError\u001b[39;00m(key)\n\u001b[0;32m    418\u001b[0m \u001b[38;5;28mself\u001b[39m\u001b[38;5;241m.\u001b[39m_check_indexing_error(key)\n\u001b[0;32m    419\u001b[0m \u001b[38;5;28;01mraise\u001b[39;00m \u001b[38;5;167;01mKeyError\u001b[39;00m(key)\n",
      "\u001b[1;31mKeyError\u001b[0m: 'BATCH'"
     ]
    },
    {
     "data": {
      "image/png": "[encoded data removed]",
      "text/plain": [
       "<Figure size 2400x1100 with 2 Axes>"
      ]
     },
     "metadata": {},
     "output_type": "display_data"
    }
   ],
   "source": [
    "period = 10\n",
    "for i in range(130,132): \n",
    "    plt.rcParams['axes.facecolor'] = 'white'\n",
    "    fig, ax = plt.subplots(2,1, figsize=(24,11))\n",
    "    #plt.subplot(2, 1, 2)\n",
    "    ax[0].plot(df[df['batch']==i]['ds'], df[df['batch']==i]['High'], label=f'{i} Close', color='orange')\n",
    "    ax[0].plot(df[df['batch']==i]['ds'], df[df['batch']==i]['Upper Bolinger Band'], color='blue')\n",
    "    ax[0].plot(df[df['batch']==i]['ds'], df[df['batch']==i]['Lower Bolinger Band'], color='green')\n",
    "    ax[1].plot(df[df['batch']==i]['ds'], df[df['batch']==i]['RSI'], color='red')\n",
    "    ax[0].scatter(df[df['batch']==i]['Time_alert'], df[df['batch']==i]['Price_alert'], c='black')\n",
    "    ax[0].plot(df[df['batch']==i]['ds'], df[df['batch']==i]['MACD'], label=f'{i} EMA ({period} days)', color='red')\n",
    "    ax[0].scatter(all_dfff[all_dfff['BATCH']==i]['entry_time'], all_dfff[all_dfff['BATCH']==i]['entry_price'], label=f'{i} EMA ({period} days)', marker='v', color='green', s=100)\n",
    "    ax[0].scatter(all_dfff[all_dfff['BATCH']==i]['exit_time'], all_dfff[all_dfff['BATCH']==i]['exit_price'], label=f'{i} EMA ({period} days)', marker='^', color='red', s=100)\n",
    "    plt.title(f'Цены по токену {i} и метрики средних')\n",
    "    plt.xlabel('Date')\n",
    "    plt.ylabel('Price')\n",
    "    plt.legend()\n",
    "    plt.grid(True)\n",
    "\n",
    "    plt.tight_layout()\n",
    "    plt.show()\n",
    "    print('**********'*10)"
   ]
  },
  {
   "cell_type": "code",
   "execution_count": 203,
   "id": "24bdb4f8-c0da-4304-9033-6930cbfbaa51",
   "metadata": {},
   "outputs": [],
   "source": [
    "all_dfff.reset_index().to_parquet(r'G:\\data_scence\\crypto_search\\signals.pq', index=False)"
   ]
  },
  {
   "cell_type": "code",
   "execution_count": 11,
   "id": "5ebf0485",
   "metadata": {},
   "outputs": [],
   "source": [
    "signals = pd.read_parquet(PATH+ '\\signals.pq')"
   ]
  },
  {
   "cell_type": "code",
   "execution_count": 17,
   "id": "f39279a1",
   "metadata": {},
   "outputs": [
    {
     "data": {
      "text/plain": [
       "1977.949409083405"
      ]
     },
     "execution_count": 17,
     "metadata": {},
     "output_type": "execute_result"
    }
   ],
   "source": [
    "sum(signals['pnl'])"
   ]
  },
  {
   "cell_type": "code",
   "execution_count": 14,
   "id": "5e677c84-328c-493a-8437-8c34063f0bf1",
   "metadata": {},
   "outputs": [
    {
     "data": {
      "text/plain": [
       "(12964, 10745)"
      ]
     },
     "execution_count": 14,
     "metadata": {},
     "output_type": "execute_result"
    }
   ],
   "source": [
    "len(signals[signals['pnl']>0]), len(signals[signals['pnl']<0])"
   ]
  },
  {
   "cell_type": "code",
   "execution_count": 206,
   "id": "ced7f784-0a21-44b8-a407-3f320c0448e9",
   "metadata": {},
   "outputs": [],
   "source": [
    "#По этим сигналам потенциально можно получить прибыль"
   ]
  },
  {
   "cell_type": "code",
   "execution_count": 18,
   "id": "c0000371-50cc-496a-92ac-269d8852aad9",
   "metadata": {},
   "outputs": [],
   "source": [
    "# Попробую предсказать будущую цену токена при помощи модели ARIMA из библиотеки statsmodels"
   ]
  },
  {
   "cell_type": "code",
   "execution_count": 6,
   "id": "581789cc",
   "metadata": {},
   "outputs": [],
   "source": [
    "features = [i for i in df.columns if i not in ['Time_alert','Price_alert','batch', 'token', 'Close time']]"
   ]
  },
  {
   "cell_type": "code",
   "execution_count": 5,
   "id": "f06ebbb8",
   "metadata": {},
   "outputs": [],
   "source": [
    "data_for_armina = df[df['batch']==0][['ds','Open']].dropna().set_index('ds')"
   ]
  },
  {
   "cell_type": "code",
   "execution_count": 6,
   "id": "2888475e",
   "metadata": {},
   "outputs": [],
   "source": [
    "train_size = int(len(data_for_armina) * 0.75)\n",
    "train, test = data_for_armina.iloc[:train_size], data_for_armina.iloc[train_size:]"
   ]
  },
  {
   "cell_type": "code",
   "execution_count": 7,
   "id": "ff2595a4",
   "metadata": {},
   "outputs": [],
   "source": [
    "study = optuna.create_study(study_name='Поиск параметров для ARIMA', direction='minimize')"
   ]
  },
  {
   "cell_type": "code",
   "execution_count": 8,
   "id": "fe0fce45",
   "metadata": {},
   "outputs": [],
   "source": [
    "def objective(trial):   \n",
    "    \n",
    "    p = trial.suggest_int('p', 0, 8)\n",
    "    d = trial.suggest_int('d', 0, 8)\n",
    "    q = trial.suggest_int('q', 0, 8)\n",
    "    P = trial.suggest_int('P', 0, 12)\n",
    "    D = trial.suggest_int('D', 0, 12)\n",
    "    Q = trial.suggest_int('Q', 0, 12)\n",
    "    \n",
    "    model = ARIMA(train,\n",
    "                  order=(p, d, q), \n",
    "                  seasonal_order=(P, D, Q, 60),\n",
    "                  enforce_stationarity=False\n",
    "                 ).fit()\n",
    "    \n",
    "    pred = model.forecast(steps=len(test))\n",
    "    error = mean_squared_error(test, pred)\n",
    "    \n",
    "    return error"
   ]
  },
  {
   "cell_type": "code",
   "execution_count": null,
   "id": "5bb22aad",
   "metadata": {},
   "outputs": [
    {
     "data": {
      "application/vnd.jupyter.widget-view+json": {
       "model_id": "534327a461514351ba6108c8658a4ae0",
       "version_major": 2,
       "version_minor": 0
      },
      "text/plain": [
       "  0%|          | 0/200 [00:00<?, ?it/s]"
      ]
     },
     "metadata": {},
     "output_type": "display_data"
    }
   ],
   "source": [
    "study.optimize(objective, n_trials=200, show_progress_bar=True, n_jobs=-1)"
   ]
  },
  {
   "cell_type": "code",
   "execution_count": 18,
   "id": "d3653e5d",
   "metadata": {},
   "outputs": [
    {
     "data": {
      "text/plain": [
       "{'p': 6, 'd': 0, 'q': 6}"
      ]
     },
     "execution_count": 18,
     "metadata": {},
     "output_type": "execute_result"
    }
   ],
   "source": [
    "study.best_params"
   ]
  },
  {
   "cell_type": "code",
   "execution_count": 16,
   "id": "20a7c28b",
   "metadata": {},
   "outputs": [
    {
     "name": "stdout",
     "output_type": "stream",
     "text": [
      "0.00000000927436471205\n"
     ]
    }
   ],
   "source": [
    "print(f'{study.best_value:.20f}')"
   ]
  },
  {
   "cell_type": "code",
   "execution_count": 9,
   "id": "e2d9a917",
   "metadata": {},
   "outputs": [],
   "source": [
    "model = ARIMA(\n",
    "    train,\n",
    "    order=(3,0,8)).fit()\n",
    "pred = model.forecast(steps=len(test))"
   ]
  },
  {
   "cell_type": "code",
   "execution_count": 10,
   "id": "4207ac2d",
   "metadata": {},
   "outputs": [
    {
     "data": {
      "image/png": "[encoded data removed]",
      "text/plain": [
       "<Figure size 864x432 with 1 Axes>"
      ]
     },
     "metadata": {},
     "output_type": "display_data"
    }
   ],
   "source": [
    "plt.figure(figsize=(12, 6))\n",
    "plt.plot(train, label='Training Data')\n",
    "plt.plot(test, label='Actual Prices')\n",
    "plt.plot(test.index, pred, label='ARIMA Predictions', color='red')\n",
    "plt.title('ARIMA Model for token Price Prediction')\n",
    "plt.xlabel('Date')\n",
    "plt.ylabel('Price')\n",
    "plt.legend()\n",
    "plt.show()"
   ]
  },
  {
   "cell_type": "code",
   "execution_count": 12,
   "id": "fad87098",
   "metadata": {},
   "outputs": [],
   "source": [
    "# Не очень многообещающий результат, попробую LSTM"
   ]
  },
  {
   "cell_type": "code",
   "execution_count": 17,
   "id": "b80c107b",
   "metadata": {},
   "outputs": [
    {
     "ename": "NameError",
     "evalue": "name 'X' is not defined",
     "output_type": "error",
     "traceback": [
      "\u001b[1;31m---------------------------------------------------------------------------\u001b[0m",
      "\u001b[1;31mNameError\u001b[0m                                 Traceback (most recent call last)",
      "Input \u001b[1;32mIn [17]\u001b[0m, in \u001b[0;36m<cell line: 17>\u001b[1;34m()\u001b[0m\n\u001b[0;32m     13\u001b[0m time_steps \u001b[38;5;241m=\u001b[39m \u001b[38;5;241m10\u001b[39m\n\u001b[0;32m     14\u001b[0m x, y \u001b[38;5;241m=\u001b[39m create_dataset(scaled_data, time_steps)\n\u001b[1;32m---> 17\u001b[0m train_size \u001b[38;5;241m=\u001b[39m \u001b[38;5;28mint\u001b[39m(\u001b[38;5;28mlen\u001b[39m(\u001b[43mX\u001b[49m) \u001b[38;5;241m*\u001b[39m \u001b[38;5;241m0.8\u001b[39m)\n\u001b[0;32m     18\u001b[0m train_x, test_x \u001b[38;5;241m=\u001b[39m x[:train_size], x[train_size:]\n\u001b[0;32m     19\u001b[0m train_y, test_y \u001b[38;5;241m=\u001b[39m y[:train_size], y[train_size:]\n",
      "\u001b[1;31mNameError\u001b[0m: name 'X' is not defined"
     ]
    }
   ],
   "source": [
    "scaler = MinMaxScaler()\n",
    "scaled_data = scaler.fit_transform(data_for_armina)\n",
    "\n",
    "# Prepare the data for LSTM\n",
    "def create_dataset(dataset, time_steps=1):\n",
    "    dataX, dataY = [], []\n",
    "    for i in range(len(dataset)-time_steps):\n",
    "        a = dataset[i:(i+time_steps), 0]\n",
    "        dataX.append(a)\n",
    "        dataY.append(dataset[i + time_steps, 0])\n",
    "    return np.array(dataX), np.array(dataY)\n",
    "\n",
    "time_steps = 10\n",
    "x, y = create_dataset(scaled_data, time_steps)\n",
    "\n",
    "\n",
    "train_size = int(len(X) * 0.8)\n",
    "train_x, test_x = x[:train_size], x[train_size:]\n",
    "train_y, test_y = y[:train_size], y[train_size:]\n",
    "\n",
    "\n",
    "train_x = np.reshape(train_x, (train_x.shape[0], 1, train_x.shape[1]))\n",
    "test_x = np.reshape(test_x, (testX.shape[0], 1, test_x.shape[1]))\n",
    "\n",
    "\n",
    "model = Sequential()\n",
    "model.add(LSTM(50, input_shape=(1, time_steps), activation='relu'))\n",
    "model.add(Dense(1))\n",
    "model.compile(optimizer='adam', loss='mean_squared_error')\n",
    "\n",
    "\n",
    "model.fit(train_x, train_y, epochs=100, batch_size=32, verbose=0)\n",
    "\n",
    "\n",
    "predictions = model.predict(test_x)\n",
    "predictions = scaler.inverse_transform(predictions)\n",
    "\n",
    "\n",
    "actual_values = scaler.inverse_transform([test_y])\n",
    "\n",
    "\n",
    "mse = mean_squared_error(actual_values[0], predictions[:, 0])\n",
    "print(f'Mean Squared Error: {mse}')"
   ]
  },
  {
   "cell_type": "code",
   "execution_count": null,
   "id": "0f7b4e18",
   "metadata": {},
   "outputs": [],
   "source": [
    "plt.figure(figsize=(12, 6))\n",
    "plt.plot(data_for_armina.index[train_size+time_steps:], actual_values[0], label='Actual Prices')\n",
    "plt.plot(data_for_armina.index[train_size+time_steps:], predictions[:, 0], label='LSTM Predictions', color='red')\n",
    "plt.title('LSTM Model for token Price Prediction')\n",
    "plt.xlabel('Date')\n",
    "plt.ylabel('Price')\n",
    "plt.legend()\n",
    "plt.show()"
   ]
  }
 ],
 "metadata": {
  "kernelspec": {
   "display_name": "Python 3 (ipykernel)",
   "language": "python",
   "name": "python3"
  },
  "language_info": {
   "codemirror_mode": {
    "name": "ipython",
    "version": 3
   },
   "file_extension": ".py",
   "mimetype": "text/x-python",
   "name": "python",
   "nbconvert_exporter": "python",
   "pygments_lexer": "ipython3",
   "version": "3.9.12"
  }
 },
 "nbformat": 4,
 "nbformat_minor": 5
}
